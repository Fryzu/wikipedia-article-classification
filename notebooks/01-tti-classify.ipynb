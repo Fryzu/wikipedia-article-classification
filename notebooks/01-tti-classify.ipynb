{
 "metadata": {
  "language_info": {
   "codemirror_mode": {
    "name": "ipython",
    "version": 3
   },
   "file_extension": ".py",
   "mimetype": "text/x-python",
   "name": "python",
   "nbconvert_exporter": "python",
   "pygments_lexer": "ipython3",
   "version": "3.7.7"
  },
  "orig_nbformat": 2,
  "kernelspec": {
   "name": "python377jvsc74a57bd0f7083fe511133daffeb49be461125359fe7d6b3c2688ba4e67215bcacd5aa8a4",
   "display_name": "Python 3.7.7 64-bit ('CI': conda)"
  }
 },
 "nbformat": 4,
 "nbformat_minor": 2,
 "cells": [
  {
   "cell_type": "code",
   "execution_count": 1,
   "metadata": {},
   "outputs": [],
   "source": [
    "import sys\n",
    "sys.path.append('../TTI/')\n",
    "%load_ext autoreload\n",
    "%autoreload 2"
   ]
  },
  {
   "source": [
    "# Taksonomia, identyfikacja tekstu\n",
    "\n",
    "Dany jest fragment hierarchii klasyfkacji tematycznej z Wikipedii (https://en.wikipedia.org/wiki/Category:Main_topic_classifications) w postaci pliku CSV.\n",
    "Klasyfkacja jest grafem spójnym, gdzie węzły są tematami, a krawędzie reprezentują uszczegółowienie tematu.\n",
    "\n",
    "Celem projektu jest zapropnowanie i przetestowanie mechanizmu automatycznej klasyfikacji tekstu Wejściem jest plik tekstowy w języku angielskim. Wyjściem jest zbiór węzłów w/w klasyfikacji tematycznej.\n"
   ],
   "cell_type": "markdown",
   "metadata": {}
  },
  {
   "source": [
    "## Dane wejściowe\n",
    "\n",
    "Dane wejściowe do zadania do graf spójny o 225765 węzłach, kady węzeł reprezentuje jedną kategorię. Graf nie jest uporządkowanym drzewem, może również zawierać pętle."
   ],
   "cell_type": "markdown",
   "metadata": {}
  },
  {
   "source": [
    "from TTI.CategoriesGraph import CategoriesGraph\n",
    "\n",
    "categories = CategoriesGraph()"
   ],
   "cell_type": "code",
   "metadata": {},
   "execution_count": 2,
   "outputs": [
    {
     "output_type": "stream",
     "name": "stdout",
     "text": [
      "Reading topics graph\n"
     ]
    }
   ]
  },
  {
   "cell_type": "code",
   "execution_count": 3,
   "metadata": {},
   "outputs": [
    {
     "output_type": "stream",
     "name": "stdout",
     "text": [
      "Ilość krawędzi (339250, 2)\nIlość węzłów 225765\n"
     ]
    }
   ],
   "source": [
    "print(\"Ilość krawędzi\", categories._edge_list.shape)\n",
    "print(\"Ilość węzłów\", categories._graph.number_of_nodes())"
   ]
  },
  {
   "source": [
    "## Zbiór treningowy\n",
    "\n",
    "Zbiór treningowy został przygotowany z wykorzystaniem notebooka `01-tti-training-set-generate.ipynb`. Tam jest też więcej informacji o procesie generacji."
   ],
   "cell_type": "markdown",
   "metadata": {}
  },
  {
   "cell_type": "code",
   "execution_count": 6,
   "metadata": {},
   "outputs": [],
   "source": [
    "from TTI.config import DATABASE_PATH\n",
    "import sqlite3\n",
    "import pandas as pd\n",
    "import json\n",
    "import numpy as np\n",
    "from tensorflow.keras.utils import to_categorical\n",
    "\n",
    "table_name = \"training_set_25\"\n",
    "connection = sqlite3.connect(DATABASE_PATH)\n"
   ]
  },
  {
   "cell_type": "code",
   "execution_count": 7,
   "metadata": {},
   "outputs": [],
   "source": [
    "dataset = pd.read_sql('select * from {}'.format(table_name), connection)"
   ]
  },
  {
   "cell_type": "code",
   "execution_count": 8,
   "metadata": {},
   "outputs": [],
   "source": [
    "dataset[\"Representation\"] = dataset[\"Representation\"].apply(lambda i : json.loads(i))\n",
    "dataset[\"Category\"] = dataset[\"Category\"].apply(lambda i : i[9:])\n",
    "dataset[\"Words\"] = dataset[\"Words\"].apply(lambda i : json.loads(i))"
   ]
  },
  {
   "cell_type": "code",
   "execution_count": 9,
   "metadata": {},
   "outputs": [
    {
     "output_type": "stream",
     "name": "stdout",
     "text": [
      "Dataset size: (225765, 3)\nNumeric represntation vector size: 300\nNumber of nodes in the graph: 25\n"
     ]
    }
   ],
   "source": [
    "print(\"Dataset size:\", dataset.shape)\n",
    "print(\"Numeric represntation vector size:\", len(dataset.iloc[12][\"Representation\"]))\n",
    "print(\"Number of nodes in the graph:\", len(dataset.iloc[12][\"Words\"]))"
   ]
  },
  {
   "cell_type": "code",
   "execution_count": 10,
   "metadata": {},
   "outputs": [
    {
     "output_type": "execute_result",
     "data": {
      "text/plain": [
       "                                Category  \\\n",
       "0             Main_topic_classifications   \n",
       "1                    Main topic articles   \n",
       "2                   Academic disciplines   \n",
       "3       Subfields by academic discipline   \n",
       "4                   Scholars by subfield   \n",
       "...                                  ...   \n",
       "225760              World Wide Web stubs   \n",
       "225761        Internet publication stubs   \n",
       "225762                     Website stubs   \n",
       "225763        Wikimedia Foundation stubs   \n",
       "225764                          Universe   \n",
       "\n",
       "                                                    Words  \\\n",
       "0       [academic, culture, human, entertainment, heal...   \n",
       "1       [academic, culture, human, entertainment, heal...   \n",
       "2       [academic, art, academics, euthenics, studies,...   \n",
       "3       [subfield, academic, areas, evolutionary, fiel...   \n",
       "4       [subfield, academic, architects, studies, clas...   \n",
       "...                                                   ...   \n",
       "225760  [internet, wide, system, technology, bioinform...   \n",
       "225761  [service, wide, entertainment, online, news, s...   \n",
       "225762  [websites, service, wide, entertainment, onlin...   \n",
       "225763  [websites, service, wide, entertainment, onlin...   \n",
       "225764  [academic, matter, culture, entertainment, hea...   \n",
       "\n",
       "                                           Representation  \n",
       "0       [-0.3755445182323456, 0.010519789531826973, -0...  \n",
       "1       [-0.40671899914741516, 0.013835961930453777, -...  \n",
       "2       [-0.09239675104618073, -0.46590009331703186, -...  \n",
       "3       [0.085173599421978, 0.010392077267169952, -0.3...  \n",
       "4       [-0.15292514860630035, -0.5975006222724915, -0...  \n",
       "...                                                   ...  \n",
       "225760  [0.216136172413826, -0.024581177160143852, -0....  \n",
       "225761  [0.2748589515686035, 0.2310565859079361, -0.34...  \n",
       "225762  [0.1632257103919983, 0.16291794180870056, -0.2...  \n",
       "225763  [0.19932252168655396, 0.19686073064804077, -0....  \n",
       "225764  [-0.24487195909023285, -0.2658485770225525, -0...  \n",
       "\n",
       "[225765 rows x 3 columns]"
      ],
      "text/html": "<div>\n<style scoped>\n    .dataframe tbody tr th:only-of-type {\n        vertical-align: middle;\n    }\n\n    .dataframe tbody tr th {\n        vertical-align: top;\n    }\n\n    .dataframe thead th {\n        text-align: right;\n    }\n</style>\n<table border=\"1\" class=\"dataframe\">\n  <thead>\n    <tr style=\"text-align: right;\">\n      <th></th>\n      <th>Category</th>\n      <th>Words</th>\n      <th>Representation</th>\n    </tr>\n  </thead>\n  <tbody>\n    <tr>\n      <th>0</th>\n      <td>Main_topic_classifications</td>\n      <td>[academic, culture, human, entertainment, heal...</td>\n      <td>[-0.3755445182323456, 0.010519789531826973, -0...</td>\n    </tr>\n    <tr>\n      <th>1</th>\n      <td>Main topic articles</td>\n      <td>[academic, culture, human, entertainment, heal...</td>\n      <td>[-0.40671899914741516, 0.013835961930453777, -...</td>\n    </tr>\n    <tr>\n      <th>2</th>\n      <td>Academic disciplines</td>\n      <td>[academic, art, academics, euthenics, studies,...</td>\n      <td>[-0.09239675104618073, -0.46590009331703186, -...</td>\n    </tr>\n    <tr>\n      <th>3</th>\n      <td>Subfields by academic discipline</td>\n      <td>[subfield, academic, areas, evolutionary, fiel...</td>\n      <td>[0.085173599421978, 0.010392077267169952, -0.3...</td>\n    </tr>\n    <tr>\n      <th>4</th>\n      <td>Scholars by subfield</td>\n      <td>[subfield, academic, architects, studies, clas...</td>\n      <td>[-0.15292514860630035, -0.5975006222724915, -0...</td>\n    </tr>\n    <tr>\n      <th>...</th>\n      <td>...</td>\n      <td>...</td>\n      <td>...</td>\n    </tr>\n    <tr>\n      <th>225760</th>\n      <td>World Wide Web stubs</td>\n      <td>[internet, wide, system, technology, bioinform...</td>\n      <td>[0.216136172413826, -0.024581177160143852, -0....</td>\n    </tr>\n    <tr>\n      <th>225761</th>\n      <td>Internet publication stubs</td>\n      <td>[service, wide, entertainment, online, news, s...</td>\n      <td>[0.2748589515686035, 0.2310565859079361, -0.34...</td>\n    </tr>\n    <tr>\n      <th>225762</th>\n      <td>Website stubs</td>\n      <td>[websites, service, wide, entertainment, onlin...</td>\n      <td>[0.1632257103919983, 0.16291794180870056, -0.2...</td>\n    </tr>\n    <tr>\n      <th>225763</th>\n      <td>Wikimedia Foundation stubs</td>\n      <td>[websites, service, wide, entertainment, onlin...</td>\n      <td>[0.19932252168655396, 0.19686073064804077, -0....</td>\n    </tr>\n    <tr>\n      <th>225764</th>\n      <td>Universe</td>\n      <td>[academic, matter, culture, entertainment, hea...</td>\n      <td>[-0.24487195909023285, -0.2658485770225525, -0...</td>\n    </tr>\n  </tbody>\n</table>\n<p>225765 rows × 3 columns</p>\n</div>"
     },
     "metadata": {},
     "execution_count": 10
    }
   ],
   "source": [
    "dataset"
   ]
  },
  {
   "source": [
    "## Wyszukiwanie najbardziej podobnych wektorów"
   ],
   "cell_type": "markdown",
   "metadata": {}
  },
  {
   "source": [
    "Do klasyfikacji posłuże się obliczaniem odległości geometrycznej pomiędzy wektorami reprezentacji doc2vec. Wektory o najmniejszej odległości zostaną zakwalifikowane jako najbardziej podobne."
   ],
   "cell_type": "markdown",
   "metadata": {}
  },
  {
   "cell_type": "code",
   "execution_count": 32,
   "metadata": {},
   "outputs": [
    {
     "output_type": "execute_result",
     "data": {
      "text/plain": [
       "                         Category  \\\n",
       "2692  Machine learning algorithms   \n",
       "\n",
       "                                                  Words  \\\n",
       "2692  [checksum, algorithmic, trading, compression, ...   \n",
       "\n",
       "                                         Representation  \n",
       "2692  [0.302137166261673, 0.3030090630054474, -1.029...  "
      ],
      "text/html": "<div>\n<style scoped>\n    .dataframe tbody tr th:only-of-type {\n        vertical-align: middle;\n    }\n\n    .dataframe tbody tr th {\n        vertical-align: top;\n    }\n\n    .dataframe thead th {\n        text-align: right;\n    }\n</style>\n<table border=\"1\" class=\"dataframe\">\n  <thead>\n    <tr style=\"text-align: right;\">\n      <th></th>\n      <th>Category</th>\n      <th>Words</th>\n      <th>Representation</th>\n    </tr>\n  </thead>\n  <tbody>\n    <tr>\n      <th>2692</th>\n      <td>Machine learning algorithms</td>\n      <td>[checksum, algorithmic, trading, compression, ...</td>\n      <td>[0.302137166261673, 0.3030090630054474, -1.029...</td>\n    </tr>\n  </tbody>\n</table>\n</div>"
     },
     "metadata": {},
     "execution_count": 32
    }
   ],
   "source": [
    "dataset.loc[dataset['Category'] == \"Machine learning algorithms\"]\n"
   ]
  },
  {
   "cell_type": "code",
   "execution_count": 34,
   "metadata": {},
   "outputs": [
    {
     "output_type": "stream",
     "name": "stdout",
     "text": [
      "Name of category Machine learning algorithms\n"
     ]
    }
   ],
   "source": [
    "from scipy import spatial\n",
    "\n",
    "name = dataset[\"Category\"][2692]\n",
    "vector = dataset[\"Representation\"][2692]\n",
    "\n",
    "print(\"Name of category\", name)"
   ]
  },
  {
   "source": [
    "Teraz należe znaleźć najbardziej podobne kategorie. "
   ],
   "cell_type": "markdown",
   "metadata": {}
  },
  {
   "cell_type": "code",
   "execution_count": 35,
   "metadata": {},
   "outputs": [],
   "source": [
    "import tqdm\n",
    "\n",
    "def find_simmilar(vector, count, df):\n",
    "    \"\"\" Finds 'count' best matching categories with vectors simmilar to 'vector'\"\"\"\n",
    "    categories = []\n",
    "    for index, row in tqdm.tqdm(df.iterrows(), total=df.shape[0]):\n",
    "        vec = row[\"Representation\"]\n",
    "        name = row[\"Category\"]\n",
    "        categories.append((name, spatial.distance.cosine(vector, vec)))\n",
    "    sorted_categories = sorted(categories, key=lambda i: i[1])\n",
    "    return sorted_categories[0:count]\n"
   ]
  },
  {
   "cell_type": "code",
   "execution_count": 40,
   "metadata": {},
   "outputs": [
    {
     "output_type": "stream",
     "name": "stderr",
     "text": [
      "100%|██████████| 225765/225765 [00:39<00:00, 5672.32it/s]\n"
     ]
    }
   ],
   "source": [
    "best_matching = find_simmilar(vector, 20, dataset)"
   ]
  },
  {
   "cell_type": "code",
   "execution_count": 41,
   "metadata": {},
   "outputs": [
    {
     "output_type": "execute_result",
     "data": {
      "text/plain": [
       "[('Machine learning algorithms', 0.0),\n",
       " ('Heuristic algorithms', 0.03048611901635534),\n",
       " ('Cryptographic algorithms', 0.033841232971325574),\n",
       " ('Computer arithmetic algorithms', 0.034831473629752474),\n",
       " ('Data mining algorithms', 0.03487279219354722),\n",
       " ('Compression algorithms', 0.035516547716642144),\n",
       " ('Digit-by-digit algorithms', 0.03591962687260464),\n",
       " ('Algorithms', 0.03608325172873006),\n",
       " ('Bioinformatics algorithms', 0.03669657755224942),\n",
       " ('Approximation algorithms', 0.03737963968331992),\n",
       " ('Statistical algorithms', 0.037658969638839856),\n",
       " ('Quantum algorithms', 0.037759472173684916),\n",
       " ('Graph algorithms', 0.038569196633341796),\n",
       " ('Pseudo-polynomial time algorithms', 0.039990344459672755),\n",
       " ('Routing algorithms', 0.04005739003276043),\n",
       " ('Selection algorithms', 0.04025399420522191),\n",
       " ('Algorithm description languages', 0.043534683809688834),\n",
       " ('Calendar algorithms', 0.045350172497429675),\n",
       " ('Distributed algorithms', 0.04660966816597345),\n",
       " ('Streaming algorithms', 0.04691549780262483)]"
      ]
     },
     "metadata": {},
     "execution_count": 41
    }
   ],
   "source": [
    "best_matching"
   ]
  },
  {
   "source": [
    "Jak widać na przykładzie powyżej dla kategorii `Machine learning algorithms` algorytm znalazł 20 najbardziej podobnych klas. Najbardziej podobna okazała się kategoria `Heuristic algroithms`."
   ],
   "cell_type": "markdown",
   "metadata": {}
  },
  {
   "cell_type": "code",
   "execution_count": 44,
   "metadata": {},
   "outputs": [
    {
     "output_type": "execute_result",
     "data": {
      "text/plain": [
       "('Heuristic algorithms', 0.03048611901635534)"
      ]
     },
     "metadata": {},
     "execution_count": 44
    }
   ],
   "source": [
    "best_matching[1]"
   ]
  },
  {
   "source": [
    "## Klasyfikacja dokumentu tekstowego\n",
    "\n",
    "Mając już algorytm będący w stanie porównać 2 wektory reprezentacji numerycznej `doc2vec` można przejść do właściwej implementacji zadania, czyli klasyfikacji prawdziwego artykułu. "
   ],
   "cell_type": "markdown",
   "metadata": {}
  },
  {
   "source": [
    "### Ekstrakcja zbioru słów charakterystycznych\n",
    "\n",
    "W pierwszym kroku należy przeprowadzić ekstrakcję zbioru słów charakterystycznych dla danego dokumentu tekstowego. Słowa te zostaną następnie wykorzystane do generacji wektora numerycznej reprezentacji artykułu."
   ],
   "cell_type": "markdown",
   "metadata": {}
  },
  {
   "cell_type": "code",
   "execution_count": null,
   "metadata": {},
   "outputs": [],
   "source": []
  }
 ]
}