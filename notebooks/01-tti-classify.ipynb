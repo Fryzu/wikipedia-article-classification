{
 "metadata": {
  "language_info": {
   "codemirror_mode": {
    "name": "ipython",
    "version": 3
   },
   "file_extension": ".py",
   "mimetype": "text/x-python",
   "name": "python",
   "nbconvert_exporter": "python",
   "pygments_lexer": "ipython3",
   "version": "3.7.7"
  },
  "orig_nbformat": 2,
  "kernelspec": {
   "name": "python377jvsc74a57bd0f7083fe511133daffeb49be461125359fe7d6b3c2688ba4e67215bcacd5aa8a4",
   "display_name": "Python 3.7.7 64-bit ('CI': conda)"
  }
 },
 "nbformat": 4,
 "nbformat_minor": 2,
 "cells": [
  {
   "cell_type": "code",
   "execution_count": 1,
   "metadata": {},
   "outputs": [],
   "source": [
    "import sys\n",
    "sys.path.append('../TTI/')\n",
    "%load_ext autoreload\n",
    "%autoreload 2"
   ]
  },
  {
   "source": [
    "# Taksonomia, identyfikacja tekstu\n",
    "\n",
    "Dany jest fragment hierarchii klasyfkacji tematycznej z Wikipedii (https://en.wikipedia.org/wiki/Category:Main_topic_classifications) w postaci pliku CSV.\n",
    "Klasyfkacja jest grafem spójnym, gdzie węzły są tematami, a krawędzie reprezentują uszczegółowienie tematu.\n",
    "\n",
    "Celem projektu jest zapropnowanie i przetestowanie mechanizmu automatycznej klasyfikacji tekstu Wejściem jest plik tekstowy w języku angielskim. Wyjściem jest zbiór węzłów w/w klasyfikacji tematycznej.\n"
   ],
   "cell_type": "markdown",
   "metadata": {}
  },
  {
   "source": [
    "## Dane wejściowe\n",
    "\n",
    "Dane wejściowe do zadania do graf spójny o 225765 węzłach, kady węzeł reprezentuje jedną kategorię. Graf nie jest uporządkowanym drzewem, może również zawierać pętle."
   ],
   "cell_type": "markdown",
   "metadata": {}
  },
  {
   "source": [
    "from TTI.CategoriesGraph import CategoriesGraph\n",
    "\n",
    "categories = CategoriesGraph()"
   ],
   "cell_type": "code",
   "metadata": {},
   "execution_count": 2,
   "outputs": [
    {
     "output_type": "stream",
     "name": "stdout",
     "text": [
      "Reading topics graph\n"
     ]
    }
   ]
  },
  {
   "cell_type": "code",
   "execution_count": 3,
   "metadata": {},
   "outputs": [
    {
     "output_type": "stream",
     "name": "stdout",
     "text": [
      "Ilość krawędzi (339250, 2)\nIlość węzłów 225765\n"
     ]
    }
   ],
   "source": [
    "print(\"Ilość krawędzi\", categories._edge_list.shape)\n",
    "print(\"Ilość węzłów\", categories._graph.number_of_nodes())"
   ]
  },
  {
   "source": [
    "## Zbiór treningowy\n",
    "\n",
    "Zbiór treningowy został przygotowany z wykorzystaniem notebooka `01-tti-training-set-generate.ipynb`. Tam jest też więcej informacji o procesie generacji."
   ],
   "cell_type": "markdown",
   "metadata": {}
  },
  {
   "cell_type": "code",
   "execution_count": 6,
   "metadata": {},
   "outputs": [],
   "source": [
    "from TTI.config import DATABASE_PATH\n",
    "import sqlite3\n",
    "import pandas as pd\n",
    "import json\n",
    "import numpy as np\n",
    "from tensorflow.keras.utils import to_categorical\n",
    "\n",
    "table_name = \"training_set_25\"\n",
    "connection = sqlite3.connect(DATABASE_PATH)\n"
   ]
  },
  {
   "cell_type": "code",
   "execution_count": 7,
   "metadata": {},
   "outputs": [],
   "source": [
    "dataset = pd.read_sql('select * from {}'.format(table_name), connection)"
   ]
  },
  {
   "cell_type": "code",
   "execution_count": 8,
   "metadata": {},
   "outputs": [],
   "source": [
    "dataset[\"Representation\"] = dataset[\"Representation\"].apply(lambda i : json.loads(i))\n",
    "dataset[\"Category\"] = dataset[\"Category\"].apply(lambda i : i[9:])\n",
    "dataset[\"Words\"] = dataset[\"Words\"].apply(lambda i : json.loads(i))"
   ]
  },
  {
   "cell_type": "code",
   "execution_count": 9,
   "metadata": {},
   "outputs": [
    {
     "output_type": "stream",
     "name": "stdout",
     "text": [
      "Dataset size: (225765, 3)\nNumeric represntation vector size: 300\nNumber of nodes in the graph: 25\n"
     ]
    }
   ],
   "source": [
    "print(\"Dataset size:\", dataset.shape)\n",
    "print(\"Numeric represntation vector size:\", len(dataset.iloc[12][\"Representation\"]))\n",
    "print(\"Number of nodes in the graph:\", len(dataset.iloc[12][\"Words\"]))"
   ]
  },
  {
   "cell_type": "code",
   "execution_count": 10,
   "metadata": {},
   "outputs": [
    {
     "output_type": "execute_result",
     "data": {
      "text/plain": [
       "                                Category  \\\n",
       "0             Main_topic_classifications   \n",
       "1                    Main topic articles   \n",
       "2                   Academic disciplines   \n",
       "3       Subfields by academic discipline   \n",
       "4                   Scholars by subfield   \n",
       "...                                  ...   \n",
       "225760              World Wide Web stubs   \n",
       "225761        Internet publication stubs   \n",
       "225762                     Website stubs   \n",
       "225763        Wikimedia Foundation stubs   \n",
       "225764                          Universe   \n",
       "\n",
       "                                                    Words  \\\n",
       "0       [academic, culture, human, entertainment, heal...   \n",
       "1       [academic, culture, human, entertainment, heal...   \n",
       "2       [academic, art, academics, euthenics, studies,...   \n",
       "3       [subfield, academic, areas, evolutionary, fiel...   \n",
       "4       [subfield, academic, architects, studies, clas...   \n",
       "...                                                   ...   \n",
       "225760  [internet, wide, system, technology, bioinform...   \n",
       "225761  [service, wide, entertainment, online, news, s...   \n",
       "225762  [websites, service, wide, entertainment, onlin...   \n",
       "225763  [websites, service, wide, entertainment, onlin...   \n",
       "225764  [academic, matter, culture, entertainment, hea...   \n",
       "\n",
       "                                           Representation  \n",
       "0       [-0.3755445182323456, 0.010519789531826973, -0...  \n",
       "1       [-0.40671899914741516, 0.013835961930453777, -...  \n",
       "2       [-0.09239675104618073, -0.46590009331703186, -...  \n",
       "3       [0.085173599421978, 0.010392077267169952, -0.3...  \n",
       "4       [-0.15292514860630035, -0.5975006222724915, -0...  \n",
       "...                                                   ...  \n",
       "225760  [0.216136172413826, -0.024581177160143852, -0....  \n",
       "225761  [0.2748589515686035, 0.2310565859079361, -0.34...  \n",
       "225762  [0.1632257103919983, 0.16291794180870056, -0.2...  \n",
       "225763  [0.19932252168655396, 0.19686073064804077, -0....  \n",
       "225764  [-0.24487195909023285, -0.2658485770225525, -0...  \n",
       "\n",
       "[225765 rows x 3 columns]"
      ],
      "text/html": "<div>\n<style scoped>\n    .dataframe tbody tr th:only-of-type {\n        vertical-align: middle;\n    }\n\n    .dataframe tbody tr th {\n        vertical-align: top;\n    }\n\n    .dataframe thead th {\n        text-align: right;\n    }\n</style>\n<table border=\"1\" class=\"dataframe\">\n  <thead>\n    <tr style=\"text-align: right;\">\n      <th></th>\n      <th>Category</th>\n      <th>Words</th>\n      <th>Representation</th>\n    </tr>\n  </thead>\n  <tbody>\n    <tr>\n      <th>0</th>\n      <td>Main_topic_classifications</td>\n      <td>[academic, culture, human, entertainment, heal...</td>\n      <td>[-0.3755445182323456, 0.010519789531826973, -0...</td>\n    </tr>\n    <tr>\n      <th>1</th>\n      <td>Main topic articles</td>\n      <td>[academic, culture, human, entertainment, heal...</td>\n      <td>[-0.40671899914741516, 0.013835961930453777, -...</td>\n    </tr>\n    <tr>\n      <th>2</th>\n      <td>Academic disciplines</td>\n      <td>[academic, art, academics, euthenics, studies,...</td>\n      <td>[-0.09239675104618073, -0.46590009331703186, -...</td>\n    </tr>\n    <tr>\n      <th>3</th>\n      <td>Subfields by academic discipline</td>\n      <td>[subfield, academic, areas, evolutionary, fiel...</td>\n      <td>[0.085173599421978, 0.010392077267169952, -0.3...</td>\n    </tr>\n    <tr>\n      <th>4</th>\n      <td>Scholars by subfield</td>\n      <td>[subfield, academic, architects, studies, clas...</td>\n      <td>[-0.15292514860630035, -0.5975006222724915, -0...</td>\n    </tr>\n    <tr>\n      <th>...</th>\n      <td>...</td>\n      <td>...</td>\n      <td>...</td>\n    </tr>\n    <tr>\n      <th>225760</th>\n      <td>World Wide Web stubs</td>\n      <td>[internet, wide, system, technology, bioinform...</td>\n      <td>[0.216136172413826, -0.024581177160143852, -0....</td>\n    </tr>\n    <tr>\n      <th>225761</th>\n      <td>Internet publication stubs</td>\n      <td>[service, wide, entertainment, online, news, s...</td>\n      <td>[0.2748589515686035, 0.2310565859079361, -0.34...</td>\n    </tr>\n    <tr>\n      <th>225762</th>\n      <td>Website stubs</td>\n      <td>[websites, service, wide, entertainment, onlin...</td>\n      <td>[0.1632257103919983, 0.16291794180870056, -0.2...</td>\n    </tr>\n    <tr>\n      <th>225763</th>\n      <td>Wikimedia Foundation stubs</td>\n      <td>[websites, service, wide, entertainment, onlin...</td>\n      <td>[0.19932252168655396, 0.19686073064804077, -0....</td>\n    </tr>\n    <tr>\n      <th>225764</th>\n      <td>Universe</td>\n      <td>[academic, matter, culture, entertainment, hea...</td>\n      <td>[-0.24487195909023285, -0.2658485770225525, -0...</td>\n    </tr>\n  </tbody>\n</table>\n<p>225765 rows × 3 columns</p>\n</div>"
     },
     "metadata": {},
     "execution_count": 10
    }
   ],
   "source": [
    "dataset"
   ]
  },
  {
   "source": [
    "## Wyszukiwanie najbardziej podobnych wektorów"
   ],
   "cell_type": "markdown",
   "metadata": {}
  },
  {
   "source": [
    "Do klasyfikacji posłuże się obliczaniem odległości geometrycznej pomiędzy wektorami reprezentacji doc2vec. Wektory o najmniejszej odległości zostaną zakwalifikowane jako najbardziej podobne."
   ],
   "cell_type": "markdown",
   "metadata": {}
  },
  {
   "cell_type": "code",
   "execution_count": 32,
   "metadata": {},
   "outputs": [
    {
     "output_type": "execute_result",
     "data": {
      "text/plain": [
       "                         Category  \\\n",
       "2692  Machine learning algorithms   \n",
       "\n",
       "                                                  Words  \\\n",
       "2692  [checksum, algorithmic, trading, compression, ...   \n",
       "\n",
       "                                         Representation  \n",
       "2692  [0.302137166261673, 0.3030090630054474, -1.029...  "
      ],
      "text/html": "<div>\n<style scoped>\n    .dataframe tbody tr th:only-of-type {\n        vertical-align: middle;\n    }\n\n    .dataframe tbody tr th {\n        vertical-align: top;\n    }\n\n    .dataframe thead th {\n        text-align: right;\n    }\n</style>\n<table border=\"1\" class=\"dataframe\">\n  <thead>\n    <tr style=\"text-align: right;\">\n      <th></th>\n      <th>Category</th>\n      <th>Words</th>\n      <th>Representation</th>\n    </tr>\n  </thead>\n  <tbody>\n    <tr>\n      <th>2692</th>\n      <td>Machine learning algorithms</td>\n      <td>[checksum, algorithmic, trading, compression, ...</td>\n      <td>[0.302137166261673, 0.3030090630054474, -1.029...</td>\n    </tr>\n  </tbody>\n</table>\n</div>"
     },
     "metadata": {},
     "execution_count": 32
    }
   ],
   "source": [
    "dataset.loc[dataset['Category'] == \"Machine learning algorithms\"]\n"
   ]
  },
  {
   "cell_type": "code",
   "execution_count": 34,
   "metadata": {},
   "outputs": [
    {
     "output_type": "stream",
     "name": "stdout",
     "text": [
      "Name of category Machine learning algorithms\n"
     ]
    }
   ],
   "source": [
    "from scipy import spatial\n",
    "\n",
    "name = dataset[\"Category\"][2692]\n",
    "vector = dataset[\"Representation\"][2692]\n",
    "\n",
    "print(\"Name of category\", name)"
   ]
  },
  {
   "source": [
    "Teraz należe znaleźć najbardziej podobne kategorie. "
   ],
   "cell_type": "markdown",
   "metadata": {}
  },
  {
   "cell_type": "code",
   "execution_count": 35,
   "metadata": {},
   "outputs": [],
   "source": [
    "import tqdm\n",
    "\n",
    "def find_simmilar(vector, count, df):\n",
    "    \"\"\" Finds 'count' best matching categories with vectors simmilar to 'vector'\"\"\"\n",
    "    categories = []\n",
    "    for index, row in tqdm.tqdm(df.iterrows(), total=df.shape[0]):\n",
    "        vec = row[\"Representation\"]\n",
    "        name = row[\"Category\"]\n",
    "        categories.append((name, spatial.distance.cosine(vector, vec)))\n",
    "    sorted_categories = sorted(categories, key=lambda i: i[1])\n",
    "    return sorted_categories[0:count]\n"
   ]
  },
  {
   "cell_type": "code",
   "execution_count": 40,
   "metadata": {},
   "outputs": [
    {
     "output_type": "stream",
     "name": "stderr",
     "text": [
      "100%|██████████| 225765/225765 [00:39<00:00, 5672.32it/s]\n"
     ]
    }
   ],
   "source": [
    "best_matching = find_simmilar(vector, 20, dataset)"
   ]
  },
  {
   "cell_type": "code",
   "execution_count": 41,
   "metadata": {},
   "outputs": [
    {
     "output_type": "execute_result",
     "data": {
      "text/plain": [
       "[('Machine learning algorithms', 0.0),\n",
       " ('Heuristic algorithms', 0.03048611901635534),\n",
       " ('Cryptographic algorithms', 0.033841232971325574),\n",
       " ('Computer arithmetic algorithms', 0.034831473629752474),\n",
       " ('Data mining algorithms', 0.03487279219354722),\n",
       " ('Compression algorithms', 0.035516547716642144),\n",
       " ('Digit-by-digit algorithms', 0.03591962687260464),\n",
       " ('Algorithms', 0.03608325172873006),\n",
       " ('Bioinformatics algorithms', 0.03669657755224942),\n",
       " ('Approximation algorithms', 0.03737963968331992),\n",
       " ('Statistical algorithms', 0.037658969638839856),\n",
       " ('Quantum algorithms', 0.037759472173684916),\n",
       " ('Graph algorithms', 0.038569196633341796),\n",
       " ('Pseudo-polynomial time algorithms', 0.039990344459672755),\n",
       " ('Routing algorithms', 0.04005739003276043),\n",
       " ('Selection algorithms', 0.04025399420522191),\n",
       " ('Algorithm description languages', 0.043534683809688834),\n",
       " ('Calendar algorithms', 0.045350172497429675),\n",
       " ('Distributed algorithms', 0.04660966816597345),\n",
       " ('Streaming algorithms', 0.04691549780262483)]"
      ]
     },
     "metadata": {},
     "execution_count": 41
    }
   ],
   "source": [
    "best_matching"
   ]
  },
  {
   "source": [
    "Jak widać na przykładzie powyżej dla kategorii `Machine learning algorithms` algorytm znalazł 20 najbardziej podobnych klas. Najbardziej podobna okazała się kategoria `Heuristic algroithms`."
   ],
   "cell_type": "markdown",
   "metadata": {}
  },
  {
   "cell_type": "code",
   "execution_count": 44,
   "metadata": {},
   "outputs": [
    {
     "output_type": "execute_result",
     "data": {
      "text/plain": [
       "('Heuristic algorithms', 0.03048611901635534)"
      ]
     },
     "metadata": {},
     "execution_count": 44
    }
   ],
   "source": [
    "best_matching[1]"
   ]
  },
  {
   "source": [
    "## Klasyfikacja dokumentu tekstowego\n",
    "\n",
    "Mając już algorytm będący w stanie porównać 2 wektory reprezentacji numerycznej `doc2vec` można przejść do właściwej implementacji zadania, czyli klasyfikacji prawdziwego artykułu. "
   ],
   "cell_type": "markdown",
   "metadata": {}
  },
  {
   "source": [
    "W pierwszym kroku należy przeprowadzić ekstrakcję zbioru słów charakterystycznych dla danego dokumentu tekstowego. Słowa te zostaną następnie wykorzystane do generacji wektora numerycznej reprezentacji artykułu przy użyciu modeulu `doc2vec`. "
   ],
   "cell_type": "markdown",
   "metadata": {}
  },
  {
   "cell_type": "code",
   "execution_count": 74,
   "metadata": {},
   "outputs": [
    {
     "output_type": "stream",
     "name": "stdout",
     "text": [
      "Found words:  ['class', 'datum', 'example', 'point', 'classification', 'training', 'neighbor', 'algorithm', 'feature', 'distance', 'error', 'classifier', 'rate', 'set', 'prototype', 'label', 'number', 'analysis', 'reduction', 'outlier', 'regression', 'value', 'weight', 'neighbour', 'search', 'dimension', 'data', 'input', 'object', 'distribution', 'vector', 'space', 'query', 'border', 'ratio', 'test', 'problem', 'approach', 'result', 'extraction', 'method', 'accuracy', 'technique', 'step', 'map', 'density', 'boundary', 'decision', 'case', 'output', 'property', 'function', 'scale', 'x', 'sample', 'constant', 'metric', 'variable', 'way', 'representation', 'effect', 'information', 'size', 'risk', 'expansion', 'term', 'order', 'figure', 'fig', 'k', 'vote', 'average', 'type', 'computation', 'evaluation']\n"
     ]
    }
   ],
   "source": [
    "from TTI.TextDocument import get_document_representation, get_article_content\n",
    "\n",
    "# Finds Wikipedia article by name and downloads it using Wikipedia API\n",
    "article = get_article_content(\"K-nearest_neighbors_algorithm\")\n",
    "\n",
    "representation = get_document_representation(article, words_count=75) # How many od the words found in the article should when creating vector\n",
    "\n",
    "document_words = representation['words']\n",
    "document_vector = representation['vector']\n",
    "\n",
    "print(\"Found words: \", document_words)"
   ]
  },
  {
   "cell_type": "code",
   "execution_count": 71,
   "metadata": {},
   "outputs": [
    {
     "output_type": "stream",
     "name": "stdout",
     "text": [
      "Numeric vector:  [-0.12346401810646057, 0.9341837167739868, -1.0335981845855713, -1.4343435764312744, 0.8505613207817078, 1.2286378145217896, -0.237470343708992, -0.26575976610183716, -1.8698941469192505, -0.7291629910469055, -0.5930266976356506, 0.4624477028846741, 0.7712889909744263, -0.6161341071128845, -0.445095956325531, -0.295337438583374, -0.14848719537258148, -0.5035552978515625, 0.048526037484407425, 0.6052327156066895, -0.34907904267311096, 0.15448474884033203, -0.1170039027929306, 0.0013519921340048313, 0.42283666133880615, -0.7253648638725281, -0.07505182921886444, 0.012992607429623604, -0.7499564290046692, -0.8154374361038208, -0.8735315799713135, 0.06651856750249863, 0.28670763969421387, 0.6039268970489502, 0.14671115577220917, 0.6317280530929565, 0.33257314562797546, -0.1257544904947281, 1.4722071886062622, 0.03883741796016693, -0.6392332315444946, 0.8024627566337585, -0.04716314375400543, 0.9875960946083069, -0.4332956075668335, 0.8968942761421204, 0.08390925824642181, 0.028247417882084846, 0.3310259282588959, 0.21346481144428253, -0.5954694747924805, -0.7588949799537659, 0.8714041709899902, -0.04250265285372734, 0.2067112773656845, -0.5236493945121765, 0.2902812957763672, -0.09365691989660263, -0.6946900486946106, 0.4822710156440735, -0.14391249418258667, 0.8442455530166626, 0.6046679615974426, 0.3126209080219269, 1.0394418239593506, -0.20098532736301422, 0.34968480467796326, 0.49311256408691406, 1.326847791671753, -0.056892406195402145, -0.10200273990631104, 0.03730086609721184, -0.402427077293396, 0.2382080852985382, -0.7184270024299622, -0.25243785977363586, 0.09493663907051086, 0.060976702719926834, -0.2536211311817169, 0.4003395736217499, 1.3702946901321411, -0.006770256441086531, 0.7870391607284546, 0.5635856986045837, -0.344906210899353, -0.2437746524810791, 0.3474343717098236, -0.04830828681588173, -1.0980838537216187, 0.02865656279027462, -0.4607028067111969, -1.3357375860214233, -0.9011179804801941, -0.013991311192512512, -1.1260507106781006, 0.5792092680931091, -0.0247966181486845, -0.08447188138961792, 0.2659713625907898, 0.27736443281173706, -0.010493358597159386, 0.03525668755173683, 0.3333403468132019, -0.7488969564437866, 1.0427038669586182, -1.2003638744354248, -0.8151600956916809, 0.03426320478320122, 0.03201230242848396, -0.8579824566841125, -0.2976924479007721, -0.02822478860616684, -0.2747775614261627, -0.29459747672080994, 0.2962678372859955, -0.4805299639701843, 0.5434316396713257, -0.6015022397041321, -0.2805464267730713, 0.5519909858703613, -0.8083981871604919, -0.31908756494522095, -1.2229018211364746, -0.16285587847232819, -0.06868353486061096, 0.5955840945243835, -0.0669955238699913, 0.647347092628479, 0.09261972457170486, 0.414805144071579, 1.1065107583999634, 0.6662628650665283, 0.06817615032196045, -0.533097505569458, -0.5130758881568909, -0.2154979407787323, -0.3800398111343384, -1.3160560131072998, -0.3466920852661133, 1.2372463941574097, 0.43368589878082275, 0.051162999123334885, 1.231027603149414, -0.24123188853263855, 0.5932816863059998, 0.6530629396438599, -1.0196927785873413, -0.21133878827095032, 0.7483147978782654, 0.4600929617881775, 0.06411351263523102, 0.061775777488946915, -0.10458013415336609, -0.2516511082649231, 0.19238097965717316, 0.16339707374572754, -0.6789733171463013, -1.2552517652511597, 0.1770002394914627, 0.0900888666510582, -0.16198919713497162, 0.4785941541194916, -0.31583622097969055, 0.16709792613983154, 0.16424477100372314, 0.18380030989646912, 0.21925468742847443, -0.4562649726867676, 0.5851085782051086, 0.06000146642327309, 0.5298885703086853, 0.20985907316207886, 1.6153415441513062, 0.20040945708751678, 1.331536889076233, -1.0500428676605225, -1.018547773361206, 1.2181049585342407, -0.5999433398246765, 0.31088322401046753, -0.21897739171981812, 0.5817253589630127, 0.5932939052581787, -0.5516102910041809, -0.35118567943573, -0.29128676652908325, -0.9510970711708069, 0.7565225958824158, 0.3335091769695282, -0.07542264461517334, 0.15010252594947815, -0.8987288475036621, -0.04075907543301582, 0.10406022518873215, 0.8748908042907715, -0.10797551274299622, 0.2653235197067261, -0.4891420602798462, -0.43013060092926025, -0.7828457355499268, -0.8872573971748352, -0.009652880020439625, 1.2839020490646362, 0.06904871016740799, -0.013868007808923721, 0.8379402160644531, -0.32816168665885925, 0.3014661371707916, -0.5228878259658813, -0.5293176770210266, -0.7740010023117065, 0.32554200291633606, -0.655066967010498, -0.22222772240638733, 0.04727232828736305, 0.0927676409482956, 0.689540445804596, 0.1316785365343094, 0.509666383266449, -0.8403042554855347, 0.4503377079963684, -0.008377009071409702, -1.2021459341049194, 0.3556848168373108, -0.1573137640953064, -0.2814546525478363, -0.865100085735321, -0.06113041937351227, 0.4835464656352997, 0.6524212956428528, 0.6586534976959229, 0.09682909399271011, -0.6218191385269165, -0.3029416501522064, -0.20050694048404694, 0.15054863691329956, -1.3233977556228638, -0.49043887853622437, -0.14051027595996857, 0.18860170245170593, -1.5013619661331177, -0.31123581528663635, 0.35278406739234924, 1.1049275398254395, 0.019004398956894875, -1.1169644594192505, -0.027202406898140907, 0.1174040213227272, -0.08262437582015991, -0.3270011246204376, -0.39400267601013184, -0.43890395760536194, -0.5258339047431946, 0.6384981274604797, -0.281027227640152, 0.35546189546585083, 1.362270712852478, -0.6034098863601685, 0.8161571621894836, -0.20687545835971832, -0.4229854643344879, -0.2596745193004608, 0.3211416006088257, -0.4496939480304718, 0.14763060212135315, 0.44089436531066895, -0.27761536836624146, 1.1412220001220703, -0.7636522054672241, -0.4272776246070862, -0.04039999470114708, 1.087018370628357, 1.0013039112091064, -0.25073498487472534, -0.015546481125056744, -0.6410468220710754, -0.2512150704860687, -0.4006304144859314, -0.3353804051876068, 0.800430417060852, -0.3969402611255646, 0.23574340343475342, -1.106451153755188, 0.3904397487640381, 0.3507397770881653, -0.06951793283224106, -0.24789124727249146, -0.3456231355667114, 0.2445124089717865, -0.4691723883152008, -0.7256537675857544, 0.677024245262146, -0.6077253818511963, 0.8581240773200989, -0.963301420211792, 0.1615252047777176, -0.7097463011741638, 0.5258817672729492, 0.4923759400844574, -0.7331258654594421]\n"
     ]
    }
   ],
   "source": [
    "print(\"Numeric vector: \", document_vector)"
   ]
  },
  {
   "cell_type": "code",
   "execution_count": 75,
   "metadata": {},
   "outputs": [
    {
     "output_type": "stream",
     "name": "stderr",
     "text": [
      "100%|██████████| 225765/225765 [00:38<00:00, 5926.12it/s]\n"
     ]
    }
   ],
   "source": [
    "best_matching = find_simmilar(document_vector, 5, dataset)\n"
   ]
  },
  {
   "cell_type": "code",
   "execution_count": 76,
   "metadata": {},
   "outputs": [
    {
     "output_type": "execute_result",
     "data": {
      "text/plain": [
       "[('Object recognition and categorization', 0.6077248245626808),\n",
       " ('Internet advertising methods', 0.6126320066959126),\n",
       " ('Contextual advertising', 0.6136035204571095),\n",
       " ('Learning in computer vision', 0.6146926757010172),\n",
       " ('Air force units and formations by type', 0.6151154501367266)]"
      ]
     },
     "metadata": {},
     "execution_count": 76
    }
   ],
   "source": [
    "best_matching"
   ]
  },
  {
   "source": [
    "Algorytm wykrył 5 kategorii z grafu wejściowego do których najbardziej \"pasuje\" artykuł o \"K nearest neighbors algorithm\".\n",
    "\n",
    "Są to klasy:\n",
    "* Object recognition and categorization\n",
    "* Internet advertising methods\n",
    "* Contextual advertising\n",
    "* Air force units and formations by type"
   ],
   "cell_type": "markdown",
   "metadata": {}
  },
  {
   "cell_type": "code",
   "execution_count": null,
   "metadata": {},
   "outputs": [],
   "source": []
  }
 ]
}