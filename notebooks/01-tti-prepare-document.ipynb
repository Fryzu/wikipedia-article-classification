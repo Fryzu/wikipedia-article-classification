{
 "metadata": {
  "language_info": {
   "codemirror_mode": {
    "name": "ipython",
    "version": 3
   },
   "file_extension": ".py",
   "mimetype": "text/x-python",
   "name": "python",
   "nbconvert_exporter": "python",
   "pygments_lexer": "ipython3",
   "version": "3.7.7"
  },
  "orig_nbformat": 2,
  "kernelspec": {
   "name": "python377jvsc74a57bd0f7083fe511133daffeb49be461125359fe7d6b3c2688ba4e67215bcacd5aa8a4",
   "display_name": "Python 3.7.7 64-bit ('CI': conda)"
  }
 },
 "nbformat": 4,
 "nbformat_minor": 2,
 "cells": [
  {
   "cell_type": "code",
   "execution_count": 1,
   "metadata": {},
   "outputs": [],
   "source": [
    "import sys\n",
    "sys.path.append('../TTI/')\n",
    "%load_ext autoreload\n",
    "%autoreload 2"
   ]
  },
  {
   "source": [
    "## Scrapper do przetwarzania algorytmów z Wikipedii\n",
    "\n",
    "Ściąga artykuł o danej nazwie z wykorzystniem API Wikipedii, oraz ekstrahuje z niego charakterystyczne słowa."
   ],
   "cell_type": "markdown",
   "metadata": {}
  },
  {
   "cell_type": "code",
   "execution_count": 17,
   "metadata": {},
   "outputs": [],
   "source": [
    "from TTI.TextDocument import get_article_content\n",
    "import tqdm\n",
    "import time\n",
    "import spacy"
   ]
  },
  {
   "source": [
    "## API Wikipedii"
   ],
   "cell_type": "markdown",
   "metadata": {}
  },
  {
   "cell_type": "code",
   "execution_count": 37,
   "metadata": {
    "tags": []
   },
   "outputs": [
    {
     "output_type": "stream",
     "name": "stdout",
     "text": [
      "In statistics, the k-nearest neighbors algorithm is non-parametric classification method first developed by Evelyn Fix and Joseph Hodges in 1951, and later expanded by Thomas Cover. It is used for classification and regression. In both cases, the input consists of the closest training examples in data set. The output depends on whether k-NN is used for classification or regression: In k-NN classification, the output is class membership. An object is classified by plurality vote of its neighbors, with the object being assigned to the class most common among its nearest neighbors is positive integer, typically If 1, then the object is simply assigned to the class of that single nearest neighbor.In k-NN regression, the output is the property value for the object. This value is the average of the values of nearest neighbors.k-NN is type of classification where the function is only approximated locally and all computation is deferred until function evaluation. Since this algorithm relies on distance for classification, if the features represent different physical units or come in vastly different scales then normalizing the training data can improve its accuracy dramatically.Both for classification and regression, useful technique can be to assign weights to the contributions of the neighbors, so that the nearer neighbors contribute more to the average than the more distant ones. For example, common weighting scheme consists in giving each neighbor weight of 1/d, where is the distance to the neighbor.The neighbors are taken from set of objects for which the class k-NN or the object property value k-NN is known. This can be thought of as the training set for the algorithm, though no explicit training step is required. peculiarity of the k-NN algorithm is that it is sensitive to the local structure of the data. Statistical setting Suppose we have pairs taking values in where is the class label of X, so that for probability distributions Given some norm on and point let be reordering of the training data such that Algorithm The training examples are vectors in multidimensional feature space, each with class label. The training phase of the algorithm consists only of storing the feature vectors and class labels of the training samples. In the classification phase, is user-defined constant, and an unlabeled vector query or test is classified by assigning the label which is most frequent among the training samples nearest to that query point. commonly used distance metric for continuous variables is Euclidean distance. For discrete variables, such as for text classification, another metric can be used, such as the overlap metric Hamming In the context of gene expression microarray data, for example, k-NN has been employed with correlation coefficients, such as Pearson and Spearman, as metric. Often, the classification accuracy of k-NN can be improved significantly if the distance metric is learned with specialized algorithms such as Large Margin Nearest Neighbor or Neighbourhood components analysis. drawback of the basic classification occurs when the class distribution is skewed. That is, examples of more frequent class tend to dominate the prediction of the new example, because they tend to be common among the nearest neighbors due to their large number. One way to overcome this problem is to weight the classification, taking into account the distance from the test point to each of its nearest neighbors. The class value, in regression of each of the nearest points is multiplied by weight proportional to the inverse of the distance from that point to the test point. Another way to overcome skew is by abstraction in data representation. For example, in self-organizing map each node is representative of cluster of similar points, regardless of their density in the original training data. K-NN can then be applied to the SOM. Parameter selection The best choice of depends upon the data; generally, larger values of reduces effect of the noise on the classification, but make boundaries between classes less distinct. good can be selected by various heuristic techniques hyperparameter The special case where the class is predicted to be the class of the closest training sample when is called the nearest neighbor algorithm. The accuracy of the k-NN algorithm can be severely degraded by the presence of noisy or irrelevant features, or if the feature scales are not consistent with their importance. Much research effort has been put into selecting or scaling features to improve classification. particularly popular approach is the use of evolutionary algorithms to optimize feature scaling. Another popular approach is to scale features by the mutual information of the training data with the training classes.In binary classification problems, it is helpful to choose to be an odd number as this avoids tied votes. One popular way of choosing the empirically optimal in this setting is via bootstrap method. The 1-nearest neighbor classifier The most intuitive nearest neighbour type classifier is the one nearest neighbour classifier that assigns point to the class of its closest neighbour in the feature space, that is As the size of training data set approaches infinity, the one nearest neighbour classifier guarantees an error rate of no worse than twice the Bayes error rate minimum achievable error rate given the distribution of the The weighted nearest neighbour classifier The k-nearest neighbour classifier can be viewed as assigning the nearest neighbours weight and all others weight. This can be generalised to weighted nearest neighbour classifiers. That is, where the ith nearest neighbour is assigned weight with An analogous result on the strong consistency of weighted nearest neighbour classifiers also holds.Let denote the weighted nearest classifier with weights Subject to regularity conditions on the class distributions the excess risk has the following asymptotic expansion for constants and where and The optimal weighting scheme that balances the two terms in the display above, is given as follows: set for and for .With optimal weights the dominant term in the asymptotic expansion of the excess risk is Similar results are true when using bagged nearest neighbour classifier. Properties k-NN is special case of variable-bandwidth, kernel density estimator with uniform kernel.The naive version of the algorithm is easy to implement by computing the distances from the test example to all stored examples, but it is computationally intensive for large training sets. Using an approximate nearest neighbor search algorithm makes k-NN computationally tractable even for large data sets. Many nearest neighbor search algorithms have been proposed over the years; these generally seek to reduce the number of distance evaluations actually performed. k-NN has some strong consistency results. As the amount of data approaches infinity, the two-class k-NN algorithm is guaranteed to yield an error rate no worse than twice the Bayes error rate minimum achievable error rate given the distribution of the Various improvements to the k-NN speed are possible by using proximity graphs.For multi-class k-NN classification, Cover and Hart prove an upper bound error rate of where is the Bayes error rate is the minimal error rate is the k-NN error rate, and is the number of classes in the problem. For and as the Bayesian error rate approaches zero, this limit reduces to more than twice the Bayesian error Error rates There are many results on the error rate of the nearest neighbour classifiers. The k-nearest neighbour classifier is strongly is for any joint distribution on consistent provided diverges and converges to zero as Let denote the nearest neighbour classifier based on training set of size n. Under certain regularity conditions, the excess risk yields the following asymptotic expansion for some constants and The choice offers trade off between the two terms in the above display, for which the -nearest neighbour error converges to the Bayes error at the optimal rate Metric learning The K-nearest neighbor classification performance can often be significantly improved through metric learning. Popular algorithms are neighbourhood components analysis and large margin nearest neighbor. Supervised metric learning algorithms use the label information to learn new metric or pseudo-metric. Feature extraction When the input data to an algorithm is too large to be processed and it is suspected to be redundant the same measurement in both feet and then the input data will be transformed into reduced representation set of features named features Transforming the input data into the set of features is called feature extraction. If the features extracted are carefully chosen it is expected that the features set will extract the relevant information from the input data in order to perform the desired task using this reduced representation instead of the full size input. Feature extraction is performed on raw data prior to applying k-NN algorithm on the transformed data in feature space. An example of typical computer vision computation pipeline for face recognition using k-NN including feature extraction and dimension reduction pre-processing steps implemented with Haar face detection Mean-shift tracking analysis PCA or Fisher LDA projection into feature space, followed by k-NN classification Dimension reduction For high-dimensional data with number of dimensions more than dimension reduction is usually performed prior to applying the k-NN algorithm in order to avoid the effects of the curse of dimensionality. The curse of dimensionality in the k-NN context basically means that Euclidean distance is unhelpful in high dimensions because all vectors are almost equidistant to the search query vector multiple points lying more or less on circle with the query point at the center; the distance from the query to all data points in the search space is almost the Feature extraction and dimension reduction can be combined in one step using principal component analysis linear discriminant analysis or canonical correlation analysis techniques as pre-processing step, followed by clustering by k-NN on feature vectors in reduced-dimension space. This process is also called low-dimensional embedding.For very-high-dimensional datasets when performing similarity search on live video streams, DNA data or high-dimensional time running fast approximate k-NN search using locality sensitive hashing, or other high-dimensional similarity search techniques from the VLDB toolbox might be the only feasible option. Decision boundary Nearest neighbor rules in effect implicitly compute the decision boundary. It is also possible to compute the decision boundary explicitly, and to do so efficiently, so that the computational complexity is function of the boundary complexity. Data reduction Data reduction is one of the most important problems for work with huge data sets. Usually, only some of the data points are needed for accurate classification. Those data are called the prototypes and can be found as follows: Select the class-outliers, that is, training data that are classified incorrectly by k-NN given Separate the rest of the data into two sets: the prototypes that are used for the classification decisions and the absorbed points that can be correctly classified by k-NN using prototypes. The absorbed points can then be removed from the training set. Selection of class-outliers training example surrounded by examples of other classes is called class outlier. Causes of class outliers include: random error insufficient training examples of this class isolated example appears instead of missing important features classes are separated in other dimensions which we do not too many training examples of other classes that create background for the given small classClass outliers with k-NN produce noise. They can be detected and separated for future analysis. Given two natural numbers, k>r>0, training example is called class-outlier if its nearest neighbors include more than examples of other classes. CNN for data reduction Condensed nearest neighbor the Hart is an algorithm designed to reduce the data set for k-NN classification. It selects the set of prototypes from the training data, such that 1NN with can classify the examples almost as accurately as 1NN does with the whole data set. Given training set X, CNN works iteratively: Scan all elements of X, looking for an element whose nearest prototype from has different label than x. Remove from and add it to Repeat the scan until no more prototypes are added to U.Use instead of for classification. The examples that are not prototypes are called points. It is efficient to scan the training examples in order of decreasing border ratio. The border ratio of training example is defined as is the distance to the closest example having different color than x, and is the distance from to its closest example x' with the same label as x. The border ratio is in the interval [0,1] because exceeds This ordering gives preference to the borders of the classes for inclusion in the set of prototypes U. point of different label than is called external to x. The calculation of the border ratio is illustrated by the figure on the right. The data points are labeled by colors: the initial point is and its label is red. External points are blue and green. The closest to external point is y. The closest to red point is x' The border ratio the attribute of the initial point x. Below is an illustration of CNN in series of figures. There are three classes green and Fig. 1: initially there are 60 points in each class. Fig. shows the 1NN classification map: each pixel is classified by 1NN using all the data. Fig. shows the 5NN classification map. White areas correspond to the unclassified regions, where 5NN voting is tied example, if there are two green, two red and one blue points among nearest Fig. shows the reduced data set. The crosses are the class-outliers selected by the rule the three nearest neighbors of these instances belong to other the squares are the prototypes, and the empty circles are the absorbed points. The left bottom corner shows the numbers of the class-outliers, prototypes and absorbed points for all three classes. The number of prototypes varies from 15% to 20% for different classes in this example. Fig. shows that the 1NN classification map with the prototypes is very similar to that with the initial data set. The figures were produced using the Mirkes applet. CNN model reduction for k-NN classifiers k-NN regression In k-NN regression, the k-NN algorithm is used for estimating continuous variables. One such algorithm uses weighted average of the nearest neighbors, weighted by the inverse of their distance. This algorithm works as follows: Compute the Euclidean or Mahalanobis distance from the query example to the labeled examples. Order the labeled examples by increasing distance. Find heuristically optimal number of nearest neighbors, based on RMSE. This is done using cross validation. Calculate an inverse distance weighted average with the k-nearest multivariate neighbors. k-NN outlier The distance to the kth nearest neighbor can also be seen as local density estimate and thus is also popular outlier score in anomaly detection. The larger the distance to the k-NN, the lower the local density, the more likely the query point is an outlier. Although quite simple, this outlier model, along with another classic data mining method, local outlier factor, works quite well also in comparison to more recent and more complex approaches, according to large scale experimental analysis. Validation of results confusion matrix or is often used as tool to validate the accuracy of k-NN classification. More robust statistical methods such as likelihood-ratio test can also be applied. See also Nearest centroid classifier Closest pair of points problem References Further reading Dasarathy, Belur V., ed. Nearest Neighbor Norms: NN Pattern Classification Techniques. ISBN 978-0-8186-8930-7. Shakhnarovich, Gregory; Darrell, Trevor; Indyk, Piotr, eds. Nearest-Neighbor Methods in Learning and Vision. MIT Press. ISBN 978-0-262-19547-8.\n"
     ]
    }
   ],
   "source": [
    "\n",
    "content = get_article_content(\"K-nearest_neighbors_algorithm\")\n",
    "cleaned = clean_document(content)\n",
    "\n",
    "print(cleaned)"
   ]
  },
  {
   "source": [
    "## NER"
   ],
   "cell_type": "markdown",
   "metadata": {}
  },
  {
   "cell_type": "code",
   "execution_count": 47,
   "metadata": {},
   "outputs": [
    {
     "output_type": "stream",
     "name": "stdout",
     "text": [
      "Rzeczowniki:  ['statistic', 'neighbor', 'algorithm', 'classification', 'method', 'classification', 'regression', 'case', 'input', 'training', 'example', 'datum', 'output', 'k', 'classification', 'regression', 'classification', 'output', 'class', 'membership', 'object', 'plurality', 'vote', 'neighbor', 'object', 'class', 'neighbor', 'integer', 'object', 'class', 'neighbor', 'regression', 'output', 'property', 'value', 'object', 'value', 'average', 'value', 'type', 'classification', 'function', 'computation', 'function', 'evaluation', 'algorithm', 'distance', 'classification', 'feature', 'unit', 'scale', 'training', 'datum', 'accuracy', 'classification', 'regression', 'technique', 'weight', 'contribution', 'neighbor', 'neighbor', 'average', 'one', 'example', 'weighting', 'scheme', 'neighbor', 'weight', 'd', 'distance', 'neighbor', 'neighbor', 'set', 'object', 'class', 'object', 'property', 'value', 'training', 'algorithm', 'training', 'step', 'peculiarity', 'algorithm', 'structure', 'datum', 'setting', 'pair', 'value', 'class', 'label', 'x', 'probability', 'distribution', 'norm', 'training', 'datum', 'training', 'example', 'vector', 'feature', 'space', 'class', 'label', 'training', 'phase', 'algorithm', 'feature', 'vector', 'class', 'label', 'training', 'sample', 'classification', 'phase', 'user', 'constant', 'vector', 'query', 'test', 'label', 'training', 'sample', 'query', 'point', 'distance', 'metric', 'variable', 'distance', 'variable', 'text', 'classification', 'metric', 'overlap', 'context', 'gene', 'expression', 'microarray', 'datum', 'example', 'k', 'correlation', 'coefficient', 'classification', 'accuracy', 'distance', 'metric', 'algorithm', 'analysis', 'drawback', 'classification', 'class', 'distribution', 'example', 'class', 'prediction', 'example', 'neighbor', 'number', 'way', 'problem', 'classification', 'account', 'distance', 'test', 'point', 'neighbor', 'class', 'value', 'regression', 'point', 'weight', 'proportional', 'inverse', 'distance', 'point', 'test', 'point', 'way', 'skew', 'abstraction', 'datum', 'representation', 'example', 'self', 'map', 'node', 'cluster', 'point', 'density', 'training', 'datum', 'parameter', 'selection', 'choice', 'datum', 'value', 'effect', 'noise', 'classification', 'boundary', 'class', 'technique', 'case', 'class', 'class', 'training', 'sample', 'neighbor', 'algorithm', 'accuracy', 'algorithm', 'presence', 'feature', 'feature', 'scale', 'importance', 'research', 'effort', 'feature', 'classification', 'approach', 'use', 'algorithm', 'feature', 'scaling', 'approach', 'feature', 'information', 'training', 'datum', 'training', 'class', 'classification', 'problem', 'number', 'avoid', 'vote', 'way', 'setting', 'bootstrap', 'method', 'neighbor', 'classifier', 'neighbour', 'type', 'classifier', 'neighbour', 'classifier', 'point', 'class', 'neighbour', 'feature', 'space', 'size', 'training', 'datum', 'set', 'approach', 'infinity', 'classifier', 'error', 'rate', 'error', 'rate', 'error', 'rate', 'distribution', 'neighbour', 'classifier', 'classifier', 'neighbour', 'weight', 'other', 'classifier', 'ith', 'neighbour', 'weight', 'result', 'consistency', 'neighbour', 'classifier', 'denote', 'classifier', 'weight', 'regularity', 'condition', 'class', 'distribution', 'risk', 'expansion', 'constant', 'weighting', 'scheme', 'term', 'display', 'weight', 'term', 'expansion', 'risk', 'result', 'classifier', 'property', 'case', 'kernel', 'density', 'estimator', 'kernel', 'version', 'algorithm', 'distance', 'test', 'example', 'example', 'training', 'set', 'neighbor', 'search', 'algorithm', 'datum', 'set', 'neighbor', 'search', 'algorithm', 'year', 'number', 'distance', 'evaluation', 'consistency', 'result', 'amount', 'datum', 'approach', 'infinity', 'class', 'algorithm', 'error', 'rate', 'error', 'rate', 'error', 'rate', 'distribution', 'improvement', 'speed', 'proximity', 'graph', 'classification', 'error', 'rate', 'error', 'rate', 'error', 'rate', 'error', 'rate', 'number', 'class', 'problem', 'error', 'rate', 'limit', 'error', 'rate', 'result', 'error', 'rate', 'classifier', 'classifier', 'distribution', 'diverge', 'converge', 'classifier', 'training', 'set', 'size', 'n.', 'regularity', 'condition', 'risk', 'expansion', 'constant', 'choice', 'trade', 'term', 'display', 'error', 'converge', 'error', 'rate', 'neighbor', 'classification', 'performance', 'learning', 'algorithm', 'neighbourhood', 'component', 'analysis', 'margin', 'neighbor', 'algorithm', 'label', 'information', 'pseudo', 'feature', 'extraction', 'input', 'datum', 'algorithm', 'measurement', 'foot', 'input', 'datum', 'representation', 'set', 'feature', 'feature', 'input', 'datum', 'set', 'feature', 'feature', 'extraction', 'feature', 'feature', 'information', 'input', 'datum', 'order', 'task', 'representation', 'size', 'input', 'feature', 'extraction', 'datum', 'algorithm', 'datum', 'feature', 'space', 'example', 'computer', 'vision', 'computation', 'pipeline', 'face', 'recognition', 'feature', 'extraction', 'dimension', 'reduction', 'step', 'face', 'detection', 'shift', 'tracking', 'analysis', 'feature', 'space', 'classification', 'reduction', 'datum', 'number', 'dimension', 'dimension', 'reduction', 'algorithm', 'order', 'effect', 'curse', 'dimensionality', 'curse', 'dimensionality', 'context', 'distance', 'dimension', 'vector', 'search', 'query', 'vector', 'point', 'circle', 'query', 'point', 'center', 'distance', 'query', 'data', 'point', 'search', 'space', 'extraction', 'dimension', 'reduction', 'step', 'component', 'analysis', 'analysis', 'correlation', 'analysis', 'technique', 'step', 'feature', 'vector', 'dimension', 'space', 'process', 'embedding', 'dataset', 'similarity', 'search', 'video', 'stream', 'dna', 'datum', 'time', 'search', 'locality', 'hashing', 'similarity', 'search', 'technique', 'VLDB', 'toolbox', 'option', 'decision', 'boundary', 'neighbor', 'rule', 'effect', 'decision', 'boundary', 'decision', 'boundary', 'complexity', 'function', 'complexity', 'datum', 'reduction', 'reduction', 'problem', 'work', 'datum', 'set', 'data', 'point', 'classification', 'datum', 'prototype', 'class', 'outlier', 'training', 'datum', 'rest', 'datum', 'set', 'prototype', 'classification', 'decision', 'point', 'prototype', 'point', 'training', 'set', 'selection', 'class', 'outlier', 'training', 'example', 'example', 'class', 'class', 'outlier', 'cause', 'class', 'outlier', 'error', 'training', 'example', 'class', 'example', 'feature', 'class', 'dimension', 'training', 'example', 'class', 'background', 'classclass', 'outlier', 'produce', 'noise', 'analysis', 'number', 'r>0', 'training', 'example', 'class', 'neighbor', 'example', 'class', 'data', 'reduction', 'neighbor', 'algorithm', 'datum', 'classification', 'set', 'prototype', 'training', 'datum', 'example', 'datum', 'training', 'set', 'x', 'element', 'x', 'element', 'prototype', 'label', 'x.', 'scan', 'prototype', 'classification', 'example', 'prototype', 'point', 'training', 'example', 'order', 'border', 'ratio', 'border', 'ratio', 'training', 'example', 'distance', 'example', 'color', 'distance', 'example', 'label', 'border', 'ratio', 'interval', 'ordering', 'preference', 'border', 'class', 'inclusion', 'set', 'prototype', 'point', 'label', 'calculation', 'border', 'ratio', 'figure', 'right', 'data', 'point', 'color', 'point', 'label', 'point', 'point', 'point', 'border', 'ratio', 'attribute', 'point', 'x.', 'illustration', 'series', 'figure', 'class', 'point', 'class', 'fig', 'classification', 'map', 'pixel', 'datum', 'fig', 'classification', 'map', 'area', 'region', 'voting', 'example', 'point', 'data', 'crosse', 'class', 'outlier', 'rule', 'neighbor', 'instance', 'square', 'prototype', 'circle', 'point', 'bottom', 'corner', 'number', 'class', 'outlier', 'prototype', 'point', 'class', 'number', 'prototype', '%', '%', 'class', 'example', 'fig', 'classification', 'map', 'prototype', 'data', 'figure', 'cnn', 'model', 'reduction', 'classifier', 'regression', 'regression', 'algorithm', 'variable', 'algorithm', 'use', 'neighbor', 'inverse', 'distance', 'algorithm', 'distance', 'example', 'example', 'example', 'distance', 'number', 'neighbor', 'rmse', 'validation', 'distance', 'multivariate', 'neighbor', 'distance', 'kth', 'neighbor', 'density', 'estimate', 'score', 'anomaly', 'detection', 'distance', 'density', 'query', 'point', 'outlier', 'model', 'data', 'mining', 'method', 'factor', 'comparison', 'approach', 'scale', 'analysis', 'validation', 'result', 'confusion', 'matrix', 'tool', 'accuracy', 'classification', 'method', 'likelihood', 'ratio', 'test', 'classifier', 'pair', 'point', 'problem', 'norm', 'isbn', 'ed']\n"
     ]
    }
   ],
   "source": [
    "nlp = spacy.load(\"en_core_web_sm\")\n",
    "\n",
    "doc = nlp(cleaned)\n",
    "\n",
    "words = [token.lemma_ for token in doc if token.pos_ == \"NOUN\"]\n",
    "\n",
    "# Extract nouns\n",
    "print(\"Rzeczowniki: \", words)\n"
   ]
  },
  {
   "source": [
    "Następnie wykorzystane zostanie n najczęstszych słów."
   ],
   "cell_type": "markdown",
   "metadata": {}
  },
  {
   "cell_type": "code",
   "execution_count": 53,
   "metadata": {},
   "outputs": [],
   "source": [
    "from collections import Counter\n",
    "\n",
    "words_count = 25\n",
    "counter = Counter(words)\n",
    "\n",
    "most_common_words = [w[0] for w in counter.most_common(words_count)]\n"
   ]
  },
  {
   "cell_type": "code",
   "execution_count": 55,
   "metadata": {},
   "outputs": [
    {
     "output_type": "stream",
     "name": "stdout",
     "text": [
      "Słowa charakterystyczne ['class', 'datum', 'example', 'point', 'classification', 'training', 'neighbor', 'algorithm', 'feature', 'distance', 'error', 'classifier', 'rate', 'set', 'prototype', 'label', 'number', 'analysis', 'reduction', 'outlier', 'regression', 'value', 'weight', 'neighbour', 'search']\n"
     ]
    }
   ],
   "source": [
    "print(\"Słowa charakterystyczne\", most_common_words)"
   ]
  },
  {
   "source": [
    "## Wektor numeryczny Doc2vec"
   ],
   "cell_type": "markdown",
   "metadata": {}
  },
  {
   "cell_type": "code",
   "execution_count": 59,
   "metadata": {},
   "outputs": [
    {
     "output_type": "stream",
     "name": "stdout",
     "text": [
      "Reprezentacja numeryczna:  [-0.040946099907159805, 0.5421112179756165, -0.6918324828147888, -0.9655777812004089, 0.4133988618850708, 0.7501025795936584, 0.11976761370897293, -0.20881907641887665, -1.1240359544754028, -0.7458029985427856, -0.5062634348869324, -0.6775355339050293, 0.33353516459465027, -0.8100821375846863, 0.23468589782714844, 0.2650185227394104, -0.2850194573402405, 0.31439703702926636, 0.2879180610179901, 0.9995079636573792, 0.06769582629203796, 0.10895013809204102, -0.25347426533699036, -0.39676615595817566, 0.23901450634002686, -0.4473009705543518, -0.00277457176707685, -0.42943882942199707, -0.44775423407554626, -0.7070451974868774, -0.04411971941590309, 0.08251387625932693, 0.32610422372817993, 0.675724446773529, 0.051128339022397995, -0.034748706966638565, 0.21926656365394592, -0.00818936713039875, 0.8911504745483398, -0.0005091984057798982, -0.13308212161064148, 0.3615666627883911, -0.13773885369300842, 0.28740882873535156, -0.2466723620891571, 0.3309843838214874, 0.26202303171157837, -0.21299917995929718, 0.06812264025211334, 0.2832585871219635, -0.4776040017604828, -0.5097276568412781, 0.4578300416469574, -0.31556645035743713, 0.14322829246520996, 0.374952107667923, 0.0037807091139256954, -4.645606531994417e-05, -0.20709003508090973, -0.179043248295784, 0.04153461754322052, 0.057045698165893555, 0.6335688829421997, 0.1382131725549698, 0.3693571984767914, -0.513382613658905, 0.14628390967845917, 0.3940936326980591, -0.12438274174928665, 0.34965261816978455, 0.4134560525417328, -0.27149251103401184, -0.3934996724128723, 0.4394088387489319, -0.5954798460006714, 0.12054576724767685, 0.07333655655384064, 0.4886282682418823, -0.11331336200237274, 0.22133035957813263, 0.16462916135787964, 0.09098578989505768, 0.17633993923664093, 0.1339389532804489, -0.3567408621311188, -0.09801074862480164, 0.24178138375282288, 0.02166854962706566, -0.9668482542037964, 0.002348833717405796, 0.07760245352983475, -0.4684741795063019, -0.80502849817276, -0.30788326263427734, -0.7058121562004089, 0.2383478432893753, 0.02542627602815628, 0.12753237783908844, 0.008623027242720127, 0.12213897705078125, 0.3005542755126953, 0.38387638330459595, 0.06192445009946823, -0.6060750484466553, 0.2322155088186264, -0.7740145325660706, -0.505004346370697, 0.22978100180625916, 0.8293188810348511, -0.7131320834159851, -0.050686176866292953, -0.6937612295150757, 0.2611583173274994, -0.5046433210372925, 0.3877476751804352, 0.2162782996892929, 0.7147836685180664, -0.2526329755783081, -0.8804126381874084, 0.4998912811279297, -0.43824660778045654, -0.4016701877117157, -0.20107294619083405, 0.3073822557926178, -0.6362271308898926, 0.551557719707489, 0.014275431632995605, 0.18366876244544983, 0.7151287794113159, 0.5395590662956238, 0.31004902720451355, -0.12676523625850677, -0.4648300111293793, 0.05623996630311012, -0.32712382078170776, -0.262175589799881, -0.07212522625923157, -0.46979883313179016, -0.2965531349182129, 0.9358096718788147, -0.1372038573026657, 0.17589659988880157, 0.470608115196228, 0.17798639833927155, 0.055184826254844666, 0.5542487502098083, -0.3636731207370758, -0.28544169664382935, 0.6359521746635437, 0.5587338209152222, 0.20769423246383667, 0.022419152781367302, -0.4809500277042389, -0.14138244092464447, 0.6364062428474426, 0.257896363735199, -0.6056812405586243, -0.8736277222633362, 0.34043368697166443, 0.5741173624992371, 0.2847464680671692, 0.8916621804237366, -0.16894178092479706, 0.0721261277794838, -0.46133095026016235, -0.2503095865249634, 0.1659555733203888, 0.25413984060287476, 0.47583040595054626, 0.28209030628204346, 0.3813636898994446, -0.038976844400167465, 0.6802595257759094, -0.21425029635429382, 0.672519862651825, -1.124110460281372, -0.7477068901062012, 0.9511958360671997, -0.5827978253364563, 0.09273713827133179, 0.5920944809913635, 0.40655580163002014, 0.9507564902305603, -0.027152419090270996, 0.23682095110416412, -0.2549463212490082, -0.5523377656936646, 0.4152069687843323, -0.18355578184127808, 0.04971906170248985, 0.3973795175552368, -0.4118899405002594, 0.4804658591747284, -0.18249665200710297, -0.031646568328142166, -0.24673473834991455, -0.04450668767094612, -0.34971246123313904, -0.3084675669670105, -0.524354100227356, -0.05819627270102501, -0.12435513734817505, 0.6600930690765381, -0.5038553476333618, -0.4333299398422241, 0.4141106605529785, 0.3080229163169861, -0.3286888599395752, 0.1138053685426712, -0.09119594842195511, -0.19326554238796234, 0.6210083365440369, -0.06662505120038986, -0.07004643231630325, -0.24578215181827545, 0.2760098874568939, 0.8577052354812622, 0.4366951286792755, -0.06573432683944702, -0.3240218758583069, 0.47384434938430786, 0.5883675813674927, -0.5832623243331909, 0.15078744292259216, -0.3233382999897003, -0.45681414008140564, -0.5838577747344971, 0.18276989459991455, -0.055527687072753906, 0.13082845509052277, 0.07926469296216965, -0.005560111254453659, -0.08015023171901703, -0.11718972027301788, 0.01879860647022724, 0.33227452635765076, -0.3421594202518463, -0.2350919246673584, -0.3602568209171295, -0.530483067035675, -0.17713351547718048, -0.08164279907941818, 0.6632078886032104, 0.4592006206512451, 0.13554279506206512, -0.859274685382843, 0.4971499443054199, 0.11642894893884659, -0.008081100881099701, -0.016197368502616882, 0.0852065160870552, 0.1898440718650818, -0.32633787393569946, 0.15905573964118958, -0.5978842973709106, 0.07869477570056915, 0.7631975412368774, -0.5572008490562439, 0.2960195541381836, -0.12266994267702103, -0.16295260190963745, -0.12007255852222443, 5.038603922002949e-05, -0.25076907873153687, -0.3609575033187866, 0.22531671822071075, -0.18325628340244293, 0.3155997395515442, -0.4582224190235138, -0.3121241629123688, -0.23290041089057922, 0.34291505813598633, 0.4807979166507721, 0.0463484488427639, 0.08828016370534897, -0.5198580622673035, -0.3310607969760895, 0.2261011004447937, -0.2475457489490509, 0.3948492109775543, -0.3856697082519531, 0.263537734746933, -0.3611968159675598, 0.17129048705101013, 0.06460912525653839, 0.654008686542511, -0.5116586089134216, -0.20898611843585968, 0.21198929846286774, 0.23782923817634583, -0.7549058198928833, 1.040228247642517, -0.14089415967464447, -0.3037697970867157, -0.25345155596733093, -0.3395906090736389, -0.2424309253692627, 0.8792539238929749, 0.3008681833744049, -0.043062858283519745]\n"
     ]
    }
   ],
   "source": [
    "from TTI.doc2vec import encode_article\n",
    "\n",
    "article_description = \" \".join(most_common_words)\n",
    "vector = encode_article(article_description)\n",
    "\n",
    "print(\"Reprezentacja numeryczna: \", vector)"
   ]
  },
  {
   "cell_type": "code",
   "execution_count": null,
   "metadata": {},
   "outputs": [],
   "source": []
  }
 ]
}