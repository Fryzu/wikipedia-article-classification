{
 "metadata": {
  "language_info": {
   "codemirror_mode": {
    "name": "ipython",
    "version": 3
   },
   "file_extension": ".py",
   "mimetype": "text/x-python",
   "name": "python",
   "nbconvert_exporter": "python",
   "pygments_lexer": "ipython3",
   "version": "3.7.7"
  },
  "orig_nbformat": 2,
  "kernelspec": {
   "name": "python377jvsc74a57bd0f7083fe511133daffeb49be461125359fe7d6b3c2688ba4e67215bcacd5aa8a4",
   "display_name": "Python 3.7.7 64-bit ('CI': conda)"
  }
 },
 "nbformat": 4,
 "nbformat_minor": 2,
 "cells": [
  {
   "cell_type": "code",
   "execution_count": 1,
   "metadata": {},
   "outputs": [],
   "source": [
    "import sys\n",
    "sys.path.append('../TTI/')\n",
    "%load_ext autoreload\n",
    "%autoreload 2"
   ]
  },
  {
   "source": [
    "## Scrapper do przetwarzania algorytmów z Wikipedii\n",
    "\n",
    "Ściąga artykuł o danej nazwie z wykorzystniem API Wikipedii, oraz ekstrahuje z niego charakterystyczne słowa."
   ],
   "cell_type": "markdown",
   "metadata": {}
  },
  {
   "cell_type": "code",
   "execution_count": 17,
   "metadata": {},
   "outputs": [],
   "source": [
    "from TTI.TextDocument import get_article_content\n",
    "import tqdm\n",
    "import time\n",
    "import spacy"
   ]
  },
  {
   "source": [
    "## API Wikipedii"
   ],
   "cell_type": "markdown",
   "metadata": {}
  },
  {
   "cell_type": "code",
   "execution_count": 25,
   "metadata": {
    "tags": []
   },
   "outputs": [
    {
     "output_type": "stream",
     "name": "stdout",
     "text": [
      "In statistics, the k-nearest neighbors algorithm (k-NN) is non-parametric classification method first developed by Evelyn Fix and Joseph Hodges in 1951, and later expanded by Thomas Cover. It is used for classification and regression. In both cases, the input consists of the closest training examples in data set. The output depends on whether k-NN is used for classification or regression: In k-NN classification, the output is class membership. An object is classified by plurality vote of its neighbors, with the object being assigned to the class most common among its nearest neighbors (k is positive integer, typically small). If 1, then the object is simply assigned to the class of that single nearest neighbor.In k-NN regression, the output is the property value for the object. This value is the average of the values of nearest neighbors.k-NN is type of classification where the function is only approximated locally and all computation is deferred until function evaluation. Since this algorithm relies on distance for classification, if the features represent different physical units or come in vastly different scales then normalizing the training data can improve its accuracy dramatically.Both for classification and regression, useful technique can be to assign weights to the contributions of the neighbors, so that the nearer neighbors contribute more to the average than the more distant ones. For example, common weighting scheme consists in giving each neighbor weight of 1/d, where is the distance to the neighbor.The neighbors are taken from set of objects for which the class (for k-NN classification) or the object property value (for k-NN regression) is known. This can be thought of as the training set for the algorithm, though no explicit training step is required. peculiarity of the k-NN algorithm is that it is sensitive to the local structure of the data. == Statistical setting == Suppose we have pairs {\\displaystyle (X_{1},Y_{1}),(X_{2},Y_{2}),\\dots ,(X_{n},Y_{n})} taking values in {\\displaystyle \\mathbb {R} ^{d}\\times \\{1,2\\}} where is the class label of X, so that {\\displaystyle X|Y=r\\sim P_{r}} for {\\displaystyle r=1,2} (and probability distributions {\\displaystyle P_{r}} ). Given some norm {\\displaystyle \\|\\cdot \\|} on {\\displaystyle \\mathbb {R} ^{d}} and point {\\displaystyle x\\in \\mathbb {R} ^{d}} let {\\displaystyle (X_{(1)},Y_{(1)}),\\dots ,(X_{(n)},Y_{(n)})} be reordering of the training data such that {\\displaystyle \\|X_{(1)}-x\\|\\leq \\dots \\leq \\|X_{(n)}-x\\|} == Algorithm == The training examples are vectors in multidimensional feature space, each with class label. The training phase of the algorithm consists only of storing the feature vectors and class labels of the training samples. In the classification phase, is user-defined constant, and an unlabeled vector (a query or test point) is classified by assigning the label which is most frequent among the training samples nearest to that query point. commonly used distance metric for continuous variables is Euclidean distance. For discrete variables, such as for text classification, another metric can be used, such as the overlap metric (or Hamming distance). In the context of gene expression microarray data, for example, k-NN has been employed with correlation coefficients, such as Pearson and Spearman, as metric. Often, the classification accuracy of k-NN can be improved significantly if the distance metric is learned with specialized algorithms such as Large Margin Nearest Neighbor or Neighbourhood components analysis. drawback of the basic \"majority voting\" classification occurs when the class distribution is skewed. That is, examples of more frequent class tend to dominate the prediction of the new example, because they tend to be common among the nearest neighbors due to their large number. One way to overcome this problem is to weight the classification, taking into account the distance from the test point to each of its nearest neighbors. The class (or value, in regression problems) of each of the nearest points is multiplied by weight proportional to the inverse of the distance from that point to the test point. Another way to overcome skew is by abstraction in data representation. For example, in self-organizing map (SOM), each node is representative (a center) of cluster of similar points, regardless of their density in the original training data. K-NN can then be applied to the SOM. == Parameter selection == The best choice of depends upon the data; generally, larger values of reduces effect of the noise on the classification, but make boundaries between classes less distinct. good can be selected by various heuristic techniques (see hyperparameter optimization). The special case where the class is predicted to be the class of the closest training sample (i.e. when 1) is called the nearest neighbor algorithm. The accuracy of the k-NN algorithm can be severely degraded by the presence of noisy or irrelevant features, or if the feature scales are not consistent with their importance. Much research effort has been put into selecting or scaling features to improve classification. particularly popular approach is the use of evolutionary algorithms to optimize feature scaling. Another popular approach is to scale features by the mutual information of the training data with the training classes.In binary (two class) classification problems, it is helpful to choose to be an odd number as this avoids tied votes. One popular way of choosing the empirically optimal in this setting is via bootstrap method. == The 1-nearest neighbor classifier == The most intuitive nearest neighbour type classifier is the one nearest neighbour classifier that assigns point to the class of its closest neighbour in the feature space, that is {\\displaystyle C_{n}^{1nn}(x)=Y_{(1)}} As the size of training data set approaches infinity, the one nearest neighbour classifier guarantees an error rate of no worse than twice the Bayes error rate (the minimum achievable error rate given the distribution of the data). == The weighted nearest neighbour classifier == The k-nearest neighbour classifier can be viewed as assigning the nearest neighbours weight {\\displaystyle 1/k} and all others weight. This can be generalised to weighted nearest neighbour classifiers. That is, where the ith nearest neighbour is assigned weight {\\displaystyle w_{ni}} with {\\displaystyle \\sum _{i=1}^{n}w_{ni}=1} An analogous result on the strong consistency of weighted nearest neighbour classifiers also holds.Let {\\displaystyle C_{n}^{wnn}} denote the weighted nearest classifier with weights {\\displaystyle \\{w_{ni}\\}_{i=1}^{n}} Subject to regularity conditions on the class distributions the excess risk has the following asymptotic expansion {\\displaystyle {\\mathcal {R}}_{\\mathcal {R}}(C_{n}^{wnn})-{\\mathcal {R}}_{\\mathcal {R}}(C^{Bayes})=\\left(B_{1}s_{n}^{2}+B_{2}t_{n}^{2}\\right)\\{1+o(1)\\},} for constants {\\displaystyle B_{1}} and {\\displaystyle B_{2}} where {\\displaystyle s_{n}^{2}=\\sum _{i=1}^{n}w_{ni}^{2}} and {\\displaystyle t_{n}=n^{-2/d}\\sum _{i=1}^{n}w_{ni}\\{i^{1+2/d}-(i-1)^{1+2/d}\\}} The optimal weighting scheme {\\displaystyle \\{w_{ni}^{*}\\}_{i=1}^{n}} that balances the two terms in the display above, is given as follows: set {\\displaystyle k^{*}=\\lfloor Bn^{\\frac {4}{d+4}}\\rfloor {\\displaystyle w_{ni}^{*}={\\frac {1}{k^{*}}}\\left[1+{\\frac {d}{2}}-{\\frac {d}{2{k^{*}}^{2/d}}}\\{i^{1+2/d}-(i-1)^{1+2/d}\\}\\right]} for {\\displaystyle i=1,2,\\dots ,k^{*}} and {\\displaystyle w_{ni}^{*}=0} for {\\displaystyle i=k^{*}+1,\\dots ,n} .With optimal weights the dominant term in the asymptotic expansion of the excess risk is {\\displaystyle {\\mathcal {O}}(n^{-{\\frac {4}{d+4}}})} Similar results are true when using bagged nearest neighbour classifier. == Properties == k-NN is special case of variable-bandwidth, kernel density \"balloon\" estimator with uniform kernel.The naive version of the algorithm is easy to implement by computing the distances from the test example to all stored examples, but it is computationally intensive for large training sets. Using an approximate nearest neighbor search algorithm makes k-NN computationally tractable even for large data sets. Many nearest neighbor search algorithms have been proposed over the years; these generally seek to reduce the number of distance evaluations actually performed. k-NN has some strong consistency results. As the amount of data approaches infinity, the two-class k-NN algorithm is guaranteed to yield an error rate no worse than twice the Bayes error rate (the minimum achievable error rate given the distribution of the data). Various improvements to the k-NN speed are possible by using proximity graphs.For multi-class k-NN classification, Cover and Hart (1967) prove an upper bound error rate of {\\displaystyle R^{*}\\ \\leq R_{k\\mathrm {NN} }\\ \\leq R^{*}\\left(2-{\\frac {MR^{*}}{M-1}}\\right)} where {\\displaystyle R^{*}} is the Bayes error rate (which is the minimal error rate possible), {\\displaystyle R_{kNN}} is the k-NN error rate, and is the number of classes in the problem. For {\\displaystyle M=2} and as the Bayesian error rate {\\displaystyle R^{*}} approaches zero, this limit reduces to \"not more than twice the Bayesian error rate\". == Error rates == There are many results on the error rate of the nearest neighbour classifiers. The k-nearest neighbour classifier is strongly (that is for any joint distribution on {\\displaystyle (X,Y)} consistent provided := {\\displaystyle k:=k_{n}} diverges and {\\displaystyle k_{n}/n} converges to zero as {\\displaystyle n\\to \\infty Let {\\displaystyle C_{n}^{knn}} denote the nearest neighbour classifier based on training set of size n. Under certain regularity conditions, the excess risk yields the following asymptotic expansion {\\displaystyle {\\mathcal {R}}_{\\mathcal {R}}(C_{n}^{knn})-{\\mathcal {R}}_{\\mathcal {R}}(C^{Bayes})=\\left\\{B_{1}{\\frac {1}{k}}+B_{2}\\left({\\frac {k}{n}}\\right)^{4/d}\\right\\}\\{1+o(1)\\},} for some constants {\\displaystyle B_{1}} and {\\displaystyle B_{2}} The choice {\\displaystyle k^{*}=\\lfloor Bn^{\\frac {4}{d+4}}\\rfloor offers trade off between the two terms in the above display, for which the {\\displaystyle k^{*}} -nearest neighbour error converges to the Bayes error at the optimal (minimax) rate {\\displaystyle {\\mathcal {O}}(n^{-{\\frac {4}{d+4}}})} == Metric learning == The K-nearest neighbor classification performance can often be significantly improved through (supervised) metric learning. Popular algorithms are neighbourhood components analysis and large margin nearest neighbor. Supervised metric learning algorithms use the label information to learn new metric or pseudo-metric. == Feature extraction == When the input data to an algorithm is too large to be processed and it is suspected to be redundant (e.g. the same measurement in both feet and meters) then the input data will be transformed into reduced representation set of features (also named features vector). Transforming the input data into the set of features is called feature extraction. If the features extracted are carefully chosen it is expected that the features set will extract the relevant information from the input data in order to perform the desired task using this reduced representation instead of the full size input. Feature extraction is performed on raw data prior to applying k-NN algorithm on the transformed data in feature space. An example of typical computer vision computation pipeline for face recognition using k-NN including feature extraction and dimension reduction pre-processing steps (usually implemented with OpenCV): Haar face detection Mean-shift tracking analysis PCA or Fisher LDA projection into feature space, followed by k-NN classification == Dimension reduction == For high-dimensional data (e.g., with number of dimensions more than 10) dimension reduction is usually performed prior to applying the k-NN algorithm in order to avoid the effects of the curse of dimensionality. The curse of dimensionality in the k-NN context basically means that Euclidean distance is unhelpful in high dimensions because all vectors are almost equidistant to the search query vector (imagine multiple points lying more or less on circle with the query point at the center; the distance from the query to all data points in the search space is almost the same). Feature extraction and dimension reduction can be combined in one step using principal component analysis (PCA), linear discriminant analysis (LDA), or canonical correlation analysis (CCA) techniques as pre-processing step, followed by clustering by k-NN on feature vectors in reduced-dimension space. This process is also called low-dimensional embedding.For very-high-dimensional datasets (e.g. when performing similarity search on live video streams, DNA data or high-dimensional time series) running fast approximate k-NN search using locality sensitive hashing, \"random projections\", \"sketches\" or other high-dimensional similarity search techniques from the VLDB toolbox might be the only feasible option. == Decision boundary == Nearest neighbor rules in effect implicitly compute the decision boundary. It is also possible to compute the decision boundary explicitly, and to do so efficiently, so that the computational complexity is function of the boundary complexity. == Data reduction == Data reduction is one of the most important problems for work with huge data sets. Usually, only some of the data points are needed for accurate classification. Those data are called the prototypes and can be found as follows: Select the class-outliers, that is, training data that are classified incorrectly by k-NN (for given k) Separate the rest of the data into two sets: (i) the prototypes that are used for the classification decisions and (ii) the absorbed points that can be correctly classified by k-NN using prototypes. The absorbed points can then be removed from the training set. === Selection of class-outliers === training example surrounded by examples of other classes is called class outlier. Causes of class outliers include: random error insufficient training examples of this class (an isolated example appears instead of cluster) missing important features (the classes are separated in other dimensions which we do not know) too many training examples of other classes (unbalanced classes) that create \"hostile\" background for the given small classClass outliers with k-NN produce noise. They can be detected and separated for future analysis. Given two natural numbers, k>r>0, training example is called (k,r)NN class-outlier if its nearest neighbors include more than examples of other classes. === CNN for data reduction === Condensed nearest neighbor (CNN, the Hart algorithm) is an algorithm designed to reduce the data set for k-NN classification. It selects the set of prototypes from the training data, such that 1NN with can classify the examples almost as accurately as 1NN does with the whole data set. Given training set X, CNN works iteratively: Scan all elements of X, looking for an element whose nearest prototype from has different label than x. Remove from and add it to Repeat the scan until no more prototypes are added to U.Use instead of for classification. The examples that are not prototypes are called \"absorbed\" points. It is efficient to scan the training examples in order of decreasing border ratio. The border ratio of training example is defined as a(x) ||x'-y||/||x-y||where ||x-y|| is the distance to the closest example having different color than x, and ||x'-y|| is the distance from to its closest example x' with the same label as x. The border ratio is in the interval [0,1] because ||x'-y||never exceeds ||x-y||. This ordering gives preference to the borders of the classes for inclusion in the set of prototypes U. point of different label than is called external to x. The calculation of the border ratio is illustrated by the figure on the right. The data points are labeled by colors: the initial point is and its label is red. External points are blue and green. The closest to external point is y. The closest to red point is x' The border ratio a(x) ||x'-y|| ||x-y||is the attribute of the initial point x. Below is an illustration of CNN in series of figures. There are three classes (red, green and blue). Fig. 1: initially there are 60 points in each class. Fig. shows the 1NN classification map: each pixel is classified by 1NN using all the data. Fig. shows the 5NN classification map. White areas correspond to the unclassified regions, where 5NN voting is tied (for example, if there are two green, two red and one blue points among nearest neighbors). Fig. shows the reduced data set. The crosses are the class-outliers selected by the (3,2)NN rule (all the three nearest neighbors of these instances belong to other classes); the squares are the prototypes, and the empty circles are the absorbed points. The left bottom corner shows the numbers of the class-outliers, prototypes and absorbed points for all three classes. The number of prototypes varies from 15% to 20% for different classes in this example. Fig. shows that the 1NN classification map with the prototypes is very similar to that with the initial data set. The figures were produced using the Mirkes applet. CNN model reduction for k-NN classifiers == k-NN regression == In k-NN regression, the k-NN algorithm is used for estimating continuous variables. One such algorithm uses weighted average of the nearest neighbors, weighted by the inverse of their distance. This algorithm works as follows: Compute the Euclidean or Mahalanobis distance from the query example to the labeled examples. Order the labeled examples by increasing distance. Find heuristically optimal number of nearest neighbors, based on RMSE. This is done using cross validation. Calculate an inverse distance weighted average with the k-nearest multivariate neighbors. == k-NN outlier == The distance to the kth nearest neighbor can also be seen as local density estimate and thus is also popular outlier score in anomaly detection. The larger the distance to the k-NN, the lower the local density, the more likely the query point is an outlier. Although quite simple, this outlier model, along with another classic data mining method, local outlier factor, works quite well also in comparison to more recent and more complex approaches, according to large scale experimental analysis. == Validation of results == confusion matrix or \"matching matrix\" is often used as tool to validate the accuracy of k-NN classification. More robust statistical methods such as likelihood-ratio test can also be applied. == See also == Nearest centroid classifier Closest pair of points problem == References == == Further reading == Dasarathy, Belur V., ed. (1991). Nearest Neighbor (NN) Norms: NN Pattern Classification Techniques. ISBN 978-0-8186-8930-7. Shakhnarovich, Gregory; Darrell, Trevor; Indyk, Piotr, eds. (2005). Nearest-Neighbor Methods in Learning and Vision. MIT Press. ISBN 978-0-262-19547-8.\n"
     ]
    }
   ],
   "source": [
    "\n",
    "content = get_article_content(\"K-nearest_neighbors_algorithm\")\n",
    "cleaned = clean_document(content)\n",
    "\n",
    "print(cleaned)"
   ]
  },
  {
   "source": [
    "## NER"
   ],
   "cell_type": "markdown",
   "metadata": {}
  },
  {
   "cell_type": "code",
   "execution_count": 30,
   "metadata": {},
   "outputs": [
    {
     "output_type": "stream",
     "name": "stdout",
     "text": [
      "first ORDINAL\nEvelyn Fix PERSON\nJoseph Hodges PERSON\n1951 DATE\nThomas Cover PERSON\n1 CARDINAL\n1 CARDINAL\nEuclidean NORP\nPearson and Spearman ORG\nLarge Margin Nearest Neighbor ORG\nNeighbourhood ORG\nOne CARDINAL\nK-NN ORG\n1 CARDINAL\ntwo CARDINAL\nOne CARDINAL\n1 CARDINAL\none CARDINAL\none CARDINAL\nBayes ORG\ntwo CARDINAL\n1}{k^{*}}}\\left[1+{\\frac CARDINAL\nd}}}\\{i^{1 CARDINAL\nk^{*}+1,\\dots ORG\nthe years DATE\ntwo CARDINAL\nBayes ORG\nCover ORG\nHart (1967 LAW\nBayes ORG\nBayesian NORP\nzero CARDINAL\nBayesian NORP\nzero CARDINAL\n1}{k}}+B_{2}\\left({\\frac CARDINAL\ntwo CARDINAL\nBayes ORG\nPCA ORG\nFisher ORG\nDimension ORG\nmore than 10 CARDINAL\nEuclidean NORP\none CARDINAL\nPCA ORG\nCCA ORG\nVLDB GPE\nNearest PERSON\nData ORG\nData ORG\ntwo CARDINAL\ntwo CARDINAL\nCNN ORG\nCondensed NORP\nCNN ORG\nHart PRODUCT\nCNN ORG\nScan NORP\nU. ORG\nCNN ORG\nthree CARDINAL\nFig PERSON\n1 CARDINAL\n60 CARDINAL\nFig PERSON\n1NN CARDINAL\n1NN CARDINAL\nFig PERSON\n5NN CARDINAL\n5NN CARDINAL\ntwo CARDINAL\ntwo CARDINAL\none CARDINAL\nFig PERSON\n3,2)NN CARDINAL\nthree CARDINAL\nthree CARDINAL\n15% to 20% PERCENT\nFig PERSON\n1NN CARDINAL\nMirkes ORG\nCNN ORG\nOne CARDINAL\nEuclidean NORP\nRMSE ORG\nNearest PERSON\nClosest ORG\nDasarathy PERSON\nBelur V. PERSON\n1991 DATE\nNearest Neighbor PERSON\nNN Pattern Classification Techniques ORG\n978 CARDINAL\nGregory ORG\nDarrell ORG\nTrevor ORG\nIndyk, ORG\n2005 DATE\nNearest-Neighbor Methods in Learning and Vision ORG\nMIT Press ORG\n978 CARDINAL\n"
     ]
    }
   ],
   "source": [
    "nlp = spacy.load(\"en_core_web_sm\")\n",
    "\n",
    "doc = nlp(cleaned)\n",
    "\n",
    "# # Analyze syntax\n",
    "# print(\"Noun phrases:\", [chunk.text for chunk in doc.noun_chunks])\n",
    "# print(\"Verbs:\", [token.lemma_ for token in doc if token.pos_ == \"VERB\"])\n",
    "# # ​\n",
    "# Find named entities, phrases and concepts\n",
    "for entity in doc.ents:\n",
    "    print(entity.text, entity.label_)"
   ]
  },
  {
   "cell_type": "code",
   "execution_count": null,
   "metadata": {},
   "outputs": [],
   "source": []
  }
 ]
}