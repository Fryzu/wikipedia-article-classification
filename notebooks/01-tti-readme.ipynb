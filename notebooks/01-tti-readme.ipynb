{
 "metadata": {
  "language_info": {
   "codemirror_mode": {
    "name": "ipython",
    "version": 3
   },
   "file_extension": ".py",
   "mimetype": "text/x-python",
   "name": "python",
   "nbconvert_exporter": "python",
   "pygments_lexer": "ipython3",
   "version": "3.8.5"
  },
  "orig_nbformat": 2,
  "kernelspec": {
   "name": "python385jvsc74a57bd0e134e05457d34029b6460cd73bbf1ed73f339b5b6d98c95be70b69eba114fe95",
   "display_name": "Python 3.8.5 64-bit ('base': conda)"
  }
 },
 "nbformat": 4,
 "nbformat_minor": 2,
 "cells": [
  {
   "cell_type": "code",
   "execution_count": null,
   "metadata": {},
   "outputs": [],
   "source": [
    "import sys\n",
    "sys.path.append('../TTI/')\n",
    "%load_ext autoreload\n",
    "%autoreload 2"
   ]
  },
  {
   "source": [
    "# Taksonomia, identyfikacja tekstu\n",
    "\n",
    "Dany jest fragment hierarchii klasyfkacji tematycznej z Wikipedii (https://en.wikipedia.org/wiki/Category:Main_topic_classifications) w postaci pliku CSV.\n",
    "Klasyfkacja jest grafem spójnym, gdzie węzły są tematami, a krawędzie reprezentują uszczegółowienie tematu.\n",
    "\n",
    "Celem projektu jest zapropnowanie i przetestowanie mechanizmu automatycznej klasyfikacji tekstu Wejściem jest plik tekstowy w języku angielskim. Wyjściem jest zbiór węzłów w/w klasyfikacji tematycznej.\n"
   ],
   "cell_type": "markdown",
   "metadata": {}
  },
  {
   "source": [
    "## Dane wejściowe\n",
    "\n",
    "Dane wejściowe do zadania do graf spójny o 225765 węzłach, kady węzeł reprezentuje jedną kategorię. Graf nie jest uporządkowanym drzewem, może również zawierać pętle."
   ],
   "cell_type": "markdown",
   "metadata": {}
  },
  {
   "source": [
    "from project.CategoriesGraph import CategoriesGraph\n",
    "\n",
    "categories = CategoriesGraph()"
   ],
   "cell_type": "code",
   "metadata": {},
   "execution_count": 6,
   "outputs": []
  },
  {
   "cell_type": "code",
   "execution_count": 11,
   "metadata": {},
   "outputs": [
    {
     "output_type": "stream",
     "name": "stdout",
     "text": [
      "Ilość krawędzi (339250, 2)\nIlość węzłów 225765\n"
     ]
    }
   ],
   "source": [
    "print(\"Ilość krawędzi\", categories._edge_list.shape)\n",
    "print(\"Ilość węzłów\", categories._graph.number_of_nodes())"
   ]
  },
  {
   "source": [
    "## Oczekiwane dane wyjściowe"
   ],
   "cell_type": "markdown",
   "metadata": {}
  },
  {
   "source": [
    "## NER - Named Entity Recognition"
   ],
   "cell_type": "markdown",
   "metadata": {}
  },
  {
   "source": [
    "## Algorytm do dopasowania używający zależności w grafie"
   ],
   "cell_type": "markdown",
   "metadata": {}
  },
  {
   "source": [
    "# Koncepcja rozwiązania"
   ],
   "cell_type": "markdown",
   "metadata": {}
  }
 ]
}