{
 "metadata": {
  "language_info": {
   "codemirror_mode": {
    "name": "ipython",
    "version": 3
   },
   "file_extension": ".py",
   "mimetype": "text/x-python",
   "name": "python",
   "nbconvert_exporter": "python",
   "pygments_lexer": "ipython3",
   "version": "3.7.7"
  },
  "orig_nbformat": 2,
  "kernelspec": {
   "name": "python377jvsc74a57bd0f7083fe511133daffeb49be461125359fe7d6b3c2688ba4e67215bcacd5aa8a4",
   "display_name": "Python 3.7.7 64-bit ('CI': conda)"
  }
 },
 "nbformat": 4,
 "nbformat_minor": 2,
 "cells": [
  {
   "source": [
    "# Generating training set"
   ],
   "cell_type": "markdown",
   "metadata": {}
  },
  {
   "cell_type": "code",
   "execution_count": 1,
   "metadata": {},
   "outputs": [],
   "source": [
    "import sys\n",
    "sys.path.append('../TTI/')\n",
    "%load_ext autoreload\n",
    "%autoreload 2"
   ]
  },
  {
   "source": [
    "We need to first import the graph of categories."
   ],
   "cell_type": "markdown",
   "metadata": {}
  },
  {
   "cell_type": "code",
   "execution_count": 2,
   "metadata": {},
   "outputs": [
    {
     "output_type": "stream",
     "name": "stdout",
     "text": [
      "Reading topics graph\n"
     ]
    }
   ],
   "source": [
    "from TTI.CategoriesGraph import CategoriesGraph\n",
    "\n",
    "graph = CategoriesGraph()\n",
    "categories = graph.categories\n"
   ]
  },
  {
   "source": [
    "For every category we need to find `s` words in the neighbourshood nodes. Let's how it works with the example category \"Machine learning algorithms\"."
   ],
   "cell_type": "markdown",
   "metadata": {}
  },
  {
   "cell_type": "code",
   "execution_count": 10,
   "metadata": {},
   "outputs": [
    {
     "output_type": "stream",
     "name": "stdout",
     "text": [
      "Currently visiting: Machine learning algorithms\nCurrently visiting: Algorithms\nCurrently visiting: Machine learning\nCurrently visiting: Applied mathematics\nCurrently visiting: Computer algebra\nCurrently visiting: Algorithm description languages\nCurrently visiting: Algorithmic trading\nCurrently visiting: Approximation algorithms\nCurrently visiting: Behavior selection algorithms\nCurrently visiting: Bioinformatics algorithms\nCurrently visiting: Calendar algorithms\nCurrently visiting: Checksum algorithms\nCurrently visiting: Combinatorial algorithms\nCurrently visiting: Compression algorithms\nCurrently visiting: Computer arithmetic algorithms\nCurrently visiting: Concurrent algorithms\nCurrently visiting: Cryptographic algorithms\nCurrently visiting: Data mining algorithms\nCurrently visiting: Database algorithms\nCurrently visiting: Digit-by-digit algorithms\nCurrently visiting: Digital signal processing\nCurrently visiting: Distributed algorithms\nCurrently visiting: Error detection and correction\nCurrently visiting: Evolutionary algorithms\nCurrently visiting: External memory algorithms\nCurrently visiting: Fair division protocols\nCurrently visiting: Fingerprinting algorithms\nCurrently visiting: Graph algorithms\nCurrently visiting: Computational group theory\nCurrently visiting: Heuristic algorithms\nCurrently visiting: Line clipping algorithms\nCurrently visiting: Matrix multiplication algorithms\n"
     ]
    }
   ],
   "source": [
    "from TTI.TrainingSet import getNodeWordSet\n",
    "\n",
    "s = 25\n",
    "wordRepresentation = getNodeWordSet(\"Category:Machine learning algorithms\", graph, numberOfWords=s, debug=True)"
   ]
  },
  {
   "cell_type": "code",
   "execution_count": 11,
   "metadata": {},
   "outputs": [
    {
     "output_type": "stream",
     "name": "stdout",
     "text": [
      "Found 50 words:\n\n ['algorithm', 'arithmetic', 'selection', 'division', 'processing', 'detection', 'data', 'computer', 'cryptographic', 'protocols', 'mathematics', 'fingerprinting', 'compression', 'heuristic', 'machine', 'theory', 'mining', 'applied', 'algebra', 'distributed', 'checksum', 'approximation', 'error', 'learning', 'calendar', 'correction', 'clipping', 'behavior', 'matrix', 'bioinformatics', 'memory', 'fair', 'algorithms', 'combinatorial', 'digital', 'trading', 'graph', 'languages', 'description', 'algorithmic', 'multiplication', 'database', 'computational', 'concurrent', 'evolutionary', 'group', 'signal', 'external', 'digit-by-digit', 'line']\n"
     ]
    }
   ],
   "source": [
    "print(\"Found {} words:\\n\\n\".format(len(wordRepresentation)), wordRepresentation)"
   ]
  },
  {
   "source": [
    "Now we can use our `doc2vec` model to encode our set of words as a numeric vector."
   ],
   "cell_type": "markdown",
   "metadata": {}
  },
  {
   "cell_type": "code",
   "execution_count": 12,
   "metadata": {},
   "outputs": [
    {
     "output_type": "stream",
     "name": "stdout",
     "text": [
      "Encoded numeric vector:\n [-0.000623344152700156, -0.0010207833256572485, 8.795347821433097e-05, -0.0013246862217783928, -0.0015699148643761873, 0.0005437639774754643, 5.157524810783798e-06, 0.0008592898957431316, 0.0015347463777288795, -0.0010505293030291796, -0.0010500915814191103, -0.00023540115216746926, 0.00160161720123142, 0.0015982070472091436, -0.0006845209863968194, 0.0008842069073580205, -0.0015262473607435822, 0.0002945506712421775, -0.0009485948248766363, 0.0012103100307285786, -0.0003779845137614757, -0.0012821437558159232, -0.0015727011486887932, -0.0007104766555130482, -0.0003301545511931181, 0.0012586534721776843, -0.000768120342399925, 0.00044779485324397683, -0.001178279984742403, -0.0012921225279569626, -0.00026780238840729, -0.00029388442635536194, 0.00018687424017116427, 0.0015169637044891715, 0.0012245847610756755, -0.0009244871325790882, 0.00028595805633813143, 0.001045495504513383, 0.0012685141991823912, -0.0004194669600110501, -0.0003131949924863875, 0.0007782233878970146, -0.00026593421353027225, -0.00041481369407847524, -0.0006312476471066475, 0.00024950766237452626, -0.0014126469613984227, 0.0010021000634878874, -0.00010030339763034135, -0.0008350997231900692, -9.117418812820688e-05, 0.0007085989345796406, -0.0011069633765146136, 0.00042840588139370084, -0.0008402758976444602, -0.0015123920748010278, 0.000639417499769479, 5.2785533625865355e-05, 0.0010022578062489629, -0.000859081104863435, 0.0003513827396091074, 0.0003970290708821267, -0.0003266973653808236, -0.0015440296847373247, 0.0010810744715854526, 0.00025575925246812403, -0.001575533184222877, -0.001502169412560761, -0.001227881177328527, 0.0010728933848440647, -0.0007248639594763517, -0.000853653356898576, -0.0016015084693208337, 0.00034865987254306674, -0.0015661065699532628, 8.92999378265813e-05, -0.001559781958349049, -0.0001408268290106207, 7.398646994261071e-05, -0.001503704464994371, -0.0011541239218786359, -0.0012746350839734077, 0.0013060573255643249, 0.00018685297982301563, -0.0014814892783761024, 5.484505163622089e-05, -0.0014460553647950292, 0.0010117985075339675, 0.0007020189659669995, -0.00133414042647928, -0.0005951649509370327, 0.0012556230649352074, 0.0013053436996415257, -0.0014090766198933125, -0.000979553209617734, 0.0009004665771499276, -0.0006016071420162916, -1.4728981341249892e-06, -0.000590025563724339, 0.0013788071228191257, 0.0002701478952076286, -0.0007333294488489628, 0.0008687020745128393, 0.0009335692157037556, 0.0007760272128507495, 0.001013066852465272, 0.0006633895100094378, 0.0005915138754062355, -0.0011955831432715058, -0.0003876923583447933, 0.000977191491983831, 0.00040174194145947695, 0.0014745618682354689, -0.0004364558553788811, -0.0011322619393467903, 0.00011327533138683066, 0.0010101974476128817, -0.00041264676838181913, 0.001087075099349022, 6.945059431018308e-05, -0.00045025962754152715, 0.0016275685047730803, 0.0015426846221089363, 0.0013273825170472264, -0.001462211599573493, -0.00024426120216958225, 0.00039325590478256345, 0.0005108930636197329, 0.0012323223054409027, 0.00013405136996880174, -0.0011349823325872421, 0.0014607170596718788, 0.0008681714534759521, 0.0006590927368961275, 0.0003824658924713731, 0.0005152979865670204, -1.0399692655482795e-05, -0.0015573404962196946, -0.000962838705163449, -0.0007742609595879912, 0.001169615425169468, 0.00024094450054690242, -0.0009573620045557618, 0.00013115257024765015, 0.0013404518831521273, -0.0006428760825656354, 0.0006309677846729755, 0.0002149811334675178, 0.0003628782869782299, -0.0003944945055991411, 0.0014380956999957561, -0.0006926801288500428, -0.001061309827491641, -0.0008544789161533117, 0.0009443786111660302, -6.524114724015817e-05, 0.00035027999547310174, 0.0005766769754700363, 0.0005789250135421753, -0.00031918258173391223, -0.0007621896220371127, 0.0007588858716189861, 0.0005223082262091339, -0.0005801735096611083, -0.0006793870707042515, 0.00024417173699475825, 0.0015530233504250646, -0.0013715727254748344, -0.0016439397586509585, 0.0010014959843829274, -0.00021374407515395433, 0.0016635328065603971, 0.0010582978138700128, 0.0012779071694239974, -0.001351186539977789, -0.0015881807776167989, -0.0016056036110967398, 0.001340877846814692, -0.00014108250616118312, -0.0009618856129236519, -0.001032454427331686, -0.0013026052620261908, -0.001628877129405737, 0.0008087488822638988, 0.0012592512648552656, -0.0011217831633985043, -0.0010610987665131688, 0.0016109577845782042, -0.0008604781469330192, 0.0006419912679120898, 0.001383947441354394, -0.001283795339986682, 0.000645587220788002, 5.182812310522422e-05, 0.0014904062263667583, -0.0013541218359023333, -0.00027415601653046906, 0.0005774135934188962, 0.0008515920490026474, -0.000424199242843315, 5.7031702453969046e-05, -0.00023212307132780552, -0.00023345233057625592, -0.0016189736779779196, -0.0010376754216849804, -0.000241692949202843, 0.0007575141498818994, 0.0013516299659386277, 0.0003347895690239966, -0.0010975105687975883, -0.0015125985955819488, -0.0013382273027673364, 0.0008457168005406857, 0.0008676674915477633, 0.0005267919623292983, -0.0016136023914441466, -0.00034228278673253953, 0.0006823453004471958, 5.094893276691437e-05, 0.0005043113487772644, -0.0008293772698380053, -0.0008468333980999887, -0.0016254795482382178, -0.0008911580662243068, 0.0006439621793106198, 0.0009407286997884512, 0.0013397014699876308, -0.0013618895318359137, -0.0012956435093656182, -0.0002826796262525022, 0.001580187352374196, -0.0011004280531778932, 0.0002715631271712482, -0.0013514200691133738, -0.00028317884425632656, 0.001139054074883461, -0.0011705406941473484, 0.0013818721054121852, 0.0003106770454905927, 0.00088328099809587, -0.0007706119795329869, -0.0008269443642348051, -0.0015988497762009501, -9.042126475833356e-05, -9.009706991491839e-05, -0.0004157597722951323, 0.0010176702635362744, 0.0006733130430802703, -0.0015843311557546258, -0.0002777651825454086, -9.374426736030728e-05, -0.0014373997692018747, -0.0008595154504291713, -0.0005409381119534373, -0.0011622423771768808, -0.0015503141330555081, 0.001091297366656363, 5.194851473788731e-05, -0.0009303907281719148, -0.0006851801299490035, 0.0008210553205572069, -0.001205915817990899, -0.0009867867920547724, -0.0010094818426296115, -0.0016499514458701015, -0.0012770487228408456, -0.00035348060191608965, -0.0011697208974510431, -0.0011421178933233023, 0.0008592976373620331, 0.0013890218688175082, 0.00044359095045365393, 0.0008373301243409514, -0.0014909047167748213, 0.0013978119241073728, -0.0002503663126844913, 0.0006769179017283022, -0.00044262022129260004, 0.0005748025141656399, 0.0001539031945867464, -0.00038409707485698164, -0.0004047790134791285, 0.0003770040348172188, 0.0009530996321700513, -0.00013723832671530545, 0.0015497823478654027, -0.0007087482954375446, -0.0010149258887395263, -0.000868294620886445, -0.00013657768431585282, -0.0006183910300023854, -0.0004357473226264119, -0.0016542811645194888, 0.0005159626598469913, 0.0012572355335578322, -0.0006278274231590331, -0.0015787547454237938, 0.0014437774661928415, 6.107726221671328e-05, -0.00040802310104481876]\n"
     ]
    }
   ],
   "source": [
    "from TTI.doc2vec import encode_article \n",
    "\n",
    "print(\"Encoded numeric vector:\\n\", encode_article(\"\".join(wordRepresentation)))"
   ]
  },
  {
   "source": [
    "Now for every class in categories graph I need to calculate the words represntation set."
   ],
   "cell_type": "markdown",
   "metadata": {}
  },
  {
   "cell_type": "code",
   "execution_count": 6,
   "metadata": {},
   "outputs": [
    {
     "output_type": "stream",
     "name": "stderr",
     "text": [
      "100%|██████████| 225765/225765 [49:18<00:00, 76.31it/s]\n"
     ]
    }
   ],
   "source": [
    "import tqdm\n",
    "import pandas as pd\n",
    "import json\n",
    "\n",
    "data = []\n",
    "wordsCount = 50\n",
    "\n",
    "for category in tqdm.tqdm(categories):\n",
    "    nodeId = \"Category:{}\".format(category)\n",
    "    wordRepresentation = getNodeWordSet(nodeId, graph, numberOfWords=wordsCount)\n",
    "    numericVector = encode_article(\"\".join(wordRepresentation))\n",
    "\n",
    "    data.append([str(nodeId), json.dumps(wordRepresentation), json.dumps(numericVector)])\n",
    "\n",
    "dataFrame = pd.DataFrame(data, columns=['Category', 'Words', 'Representation'])\n"
   ]
  },
  {
   "cell_type": "code",
   "execution_count": 7,
   "metadata": {},
   "outputs": [
    {
     "output_type": "execute_result",
     "data": {
      "text/plain": [
       "                                    Category  \\\n",
       "0        Category:Main_topic_classifications   \n",
       "1               Category:Main topic articles   \n",
       "2              Category:Academic disciplines   \n",
       "3  Category:Subfields by academic discipline   \n",
       "4              Category:Scholars by subfield   \n",
       "\n",
       "                                               Words  \\\n",
       "0  [\"world\", \"articles\", \"music\", \"technology\", \"...   \n",
       "1  [\"world\", \"articles\", \"music\", \"technology\", \"...   \n",
       "2  [\"communication\", \"articles\", \"subject\", \"scie...   \n",
       "3  [\"areas\", \"fields\", \"information\", \"subject\", ...   \n",
       "4  [\"gun\", \"anthropologists\", \"cartographers\", \"s...   \n",
       "\n",
       "                                      Representation  \n",
       "0  [9.195921302307397e-05, -0.0007309274515137076...  \n",
       "1  [9.195921302307397e-05, -0.0007309274515137076...  \n",
       "2  [-0.0007150950841605663, 0.0004406595544423908...  \n",
       "3  [0.001037890324369073, 0.00026856939075514674,...  \n",
       "4  [0.0008707719971425831, 0.0003855710383504629,...  "
      ],
      "text/html": "<div>\n<style scoped>\n    .dataframe tbody tr th:only-of-type {\n        vertical-align: middle;\n    }\n\n    .dataframe tbody tr th {\n        vertical-align: top;\n    }\n\n    .dataframe thead th {\n        text-align: right;\n    }\n</style>\n<table border=\"1\" class=\"dataframe\">\n  <thead>\n    <tr style=\"text-align: right;\">\n      <th></th>\n      <th>Category</th>\n      <th>Words</th>\n      <th>Representation</th>\n    </tr>\n  </thead>\n  <tbody>\n    <tr>\n      <th>0</th>\n      <td>Category:Main_topic_classifications</td>\n      <td>[\"world\", \"articles\", \"music\", \"technology\", \"...</td>\n      <td>[9.195921302307397e-05, -0.0007309274515137076...</td>\n    </tr>\n    <tr>\n      <th>1</th>\n      <td>Category:Main topic articles</td>\n      <td>[\"world\", \"articles\", \"music\", \"technology\", \"...</td>\n      <td>[9.195921302307397e-05, -0.0007309274515137076...</td>\n    </tr>\n    <tr>\n      <th>2</th>\n      <td>Category:Academic disciplines</td>\n      <td>[\"communication\", \"articles\", \"subject\", \"scie...</td>\n      <td>[-0.0007150950841605663, 0.0004406595544423908...</td>\n    </tr>\n    <tr>\n      <th>3</th>\n      <td>Category:Subfields by academic discipline</td>\n      <td>[\"areas\", \"fields\", \"information\", \"subject\", ...</td>\n      <td>[0.001037890324369073, 0.00026856939075514674,...</td>\n    </tr>\n    <tr>\n      <th>4</th>\n      <td>Category:Scholars by subfield</td>\n      <td>[\"gun\", \"anthropologists\", \"cartographers\", \"s...</td>\n      <td>[0.0008707719971425831, 0.0003855710383504629,...</td>\n    </tr>\n  </tbody>\n</table>\n</div>"
     },
     "metadata": {},
     "execution_count": 7
    }
   ],
   "source": [
    "dataFrame.head()"
   ]
  },
  {
   "source": [
    "We won't use csv for it cause it would be to big and slow."
   ],
   "cell_type": "markdown",
   "metadata": {}
  },
  {
   "cell_type": "code",
   "execution_count": 8,
   "metadata": {},
   "outputs": [],
   "source": [
    "# from TTI.config import DATA_DIR\n",
    "# import os\n",
    "\n",
    "# fileName= \"training_set_{}.csv\".format(wordsCount)\n",
    "# filePath = os.path.join(DATA_DIR, fileName)\n",
    "\n",
    "# dataFrame.to_csv(filePath,index_label=\"id\")"
   ]
  },
  {
   "source": [
    "## Saving dataset in the database\n",
    "\n",
    "Because caluclated dataset is huge (1.3GB) the `csv` file won't be convenient. I will use SQL database insetead."
   ],
   "cell_type": "markdown",
   "metadata": {}
  },
  {
   "cell_type": "code",
   "execution_count": 8,
   "metadata": {},
   "outputs": [],
   "source": [
    "from TTI.config import DATABASE_PATH\n",
    "import sqlite3\n",
    "import os\n",
    "\n",
    "connection = sqlite3.connect(DATABASE_PATH)"
   ]
  },
  {
   "cell_type": "code",
   "execution_count": 9,
   "metadata": {},
   "outputs": [],
   "source": [
    "table_name = \"training_set_{}\".format(wordsCount)\n",
    "\n",
    "dataFrame.to_sql(table_name, connection, if_exists='replace', index=False)"
   ]
  },
  {
   "source": [
    "## Testing import data from database"
   ],
   "cell_type": "markdown",
   "metadata": {}
  },
  {
   "cell_type": "code",
   "execution_count": 11,
   "metadata": {},
   "outputs": [],
   "source": [
    " importedDataFrame = pd.read_sql('select * from {}'.format(table_name), connection)"
   ]
  },
  {
   "cell_type": "code",
   "execution_count": 15,
   "metadata": {},
   "outputs": [
    {
     "output_type": "execute_result",
     "data": {
      "text/plain": [
       "                                    Category  \\\n",
       "0        Category:Main_topic_classifications   \n",
       "1               Category:Main topic articles   \n",
       "2              Category:Academic disciplines   \n",
       "3  Category:Subfields by academic discipline   \n",
       "4              Category:Scholars by subfield   \n",
       "\n",
       "                                               Words  \\\n",
       "0  [\"knowledge\", \"history\", \"education\", \"article...   \n",
       "1  [\"knowledge\", \"history\", \"education\", \"article...   \n",
       "2  [\"history\", \"communication\", \"professional\", \"...   \n",
       "3  [\"of\", \"engineering\", \"psychiatric\", \"history\"...   \n",
       "4  [\"of\", \"engineers\", \"geographers\", \"gun\", \"eur...   \n",
       "\n",
       "                                      Representation  \n",
       "0  [0.0015570593532174826, 0.00048521943972446024...  \n",
       "1  [0.0015570593532174826, 0.00048521943972446024...  \n",
       "2  [0.0013619071105495095, 0.0009967258665710688,...  \n",
       "3  [-0.000537737796548754, 0.0015615752199664712,...  \n",
       "4  [-0.00039383742841891944, -0.00025646726135164...  "
      ],
      "text/html": "<div>\n<style scoped>\n    .dataframe tbody tr th:only-of-type {\n        vertical-align: middle;\n    }\n\n    .dataframe tbody tr th {\n        vertical-align: top;\n    }\n\n    .dataframe thead th {\n        text-align: right;\n    }\n</style>\n<table border=\"1\" class=\"dataframe\">\n  <thead>\n    <tr style=\"text-align: right;\">\n      <th></th>\n      <th>Category</th>\n      <th>Words</th>\n      <th>Representation</th>\n    </tr>\n  </thead>\n  <tbody>\n    <tr>\n      <th>0</th>\n      <td>Category:Main_topic_classifications</td>\n      <td>[\"knowledge\", \"history\", \"education\", \"article...</td>\n      <td>[0.0015570593532174826, 0.00048521943972446024...</td>\n    </tr>\n    <tr>\n      <th>1</th>\n      <td>Category:Main topic articles</td>\n      <td>[\"knowledge\", \"history\", \"education\", \"article...</td>\n      <td>[0.0015570593532174826, 0.00048521943972446024...</td>\n    </tr>\n    <tr>\n      <th>2</th>\n      <td>Category:Academic disciplines</td>\n      <td>[\"history\", \"communication\", \"professional\", \"...</td>\n      <td>[0.0013619071105495095, 0.0009967258665710688,...</td>\n    </tr>\n    <tr>\n      <th>3</th>\n      <td>Category:Subfields by academic discipline</td>\n      <td>[\"of\", \"engineering\", \"psychiatric\", \"history\"...</td>\n      <td>[-0.000537737796548754, 0.0015615752199664712,...</td>\n    </tr>\n    <tr>\n      <th>4</th>\n      <td>Category:Scholars by subfield</td>\n      <td>[\"of\", \"engineers\", \"geographers\", \"gun\", \"eur...</td>\n      <td>[-0.00039383742841891944, -0.00025646726135164...</td>\n    </tr>\n  </tbody>\n</table>\n</div>"
     },
     "metadata": {},
     "execution_count": 15
    }
   ],
   "source": [
    "importedDataFrame.head()"
   ]
  },
  {
   "cell_type": "code",
   "execution_count": null,
   "metadata": {},
   "outputs": [],
   "source": []
  }
 ]
}