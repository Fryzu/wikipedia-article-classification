{
 "metadata": {
  "language_info": {
   "codemirror_mode": {
    "name": "ipython",
    "version": 3
   },
   "file_extension": ".py",
   "mimetype": "text/x-python",
   "name": "python",
   "nbconvert_exporter": "python",
   "pygments_lexer": "ipython3",
   "version": "3.7.7"
  },
  "orig_nbformat": 2,
  "kernelspec": {
   "name": "python377jvsc74a57bd0f7083fe511133daffeb49be461125359fe7d6b3c2688ba4e67215bcacd5aa8a4",
   "display_name": "Python 3.7.7 64-bit ('CI': conda)"
  }
 },
 "nbformat": 4,
 "nbformat_minor": 2,
 "cells": [
  {
   "source": [
    "# Generating training set"
   ],
   "cell_type": "markdown",
   "metadata": {}
  },
  {
   "cell_type": "code",
   "execution_count": 1,
   "metadata": {},
   "outputs": [],
   "source": [
    "import sys\n",
    "sys.path.append('../TTI/')\n",
    "%load_ext autoreload\n",
    "%autoreload 2"
   ]
  },
  {
   "source": [
    "We need to first import the graph of categories."
   ],
   "cell_type": "markdown",
   "metadata": {}
  },
  {
   "cell_type": "code",
   "execution_count": 2,
   "metadata": {},
   "outputs": [
    {
     "output_type": "stream",
     "name": "stdout",
     "text": [
      "Reading topics graph\n"
     ]
    }
   ],
   "source": [
    "from TTI.CategoriesGraph import CategoriesGraph\n",
    "\n",
    "graph = CategoriesGraph()\n",
    "categories = graph.categories\n"
   ]
  },
  {
   "source": [
    "For every category we need to find `s` words in the neighbourshood nodes. Let's how it works with the example category \"Machine learning algorithms\"."
   ],
   "cell_type": "markdown",
   "metadata": {}
  },
  {
   "cell_type": "code",
   "execution_count": 3,
   "metadata": {
    "tags": []
   },
   "outputs": [
    {
     "output_type": "stream",
     "name": "stdout",
     "text": [
      "Currently visiting: Machine learning algorithms\nCurrently visiting: Algorithms\nCurrently visiting: Machine learning\nCurrently visiting: Applied mathematics\nCurrently visiting: Computer algebra\nCurrently visiting: Algorithm description languages\nCurrently visiting: Algorithmic trading\nCurrently visiting: Approximation algorithms\nCurrently visiting: Behavior selection algorithms\nCurrently visiting: Bioinformatics algorithms\nCurrently visiting: Calendar algorithms\nCurrently visiting: Checksum algorithms\nCurrently visiting: Combinatorial algorithms\nCurrently visiting: Compression algorithms\nCurrently visiting: Computer arithmetic algorithms\nCurrently visiting: Concurrent algorithms\nCurrently visiting: Cryptographic algorithms\nCurrently visiting: Data mining algorithms\n"
     ]
    }
   ],
   "source": [
    "from TTI.TrainingSet import getNodeWordSet\n",
    "\n",
    "s = 25\n",
    "wordRepresentation = getNodeWordSet(\"Category:Machine learning algorithms\", graph, numberOfWords=s, debug=True)"
   ]
  },
  {
   "cell_type": "code",
   "execution_count": 4,
   "metadata": {},
   "outputs": [
    {
     "output_type": "stream",
     "name": "stdout",
     "text": [
      "Found 25 words:\n\n ['description', 'calendar', 'combinatorial', 'algorithms', 'concurrent', 'applied', 'data', 'bioinformatics', 'algorithm', 'trading', 'cryptographic', 'languages', 'algebra', 'machine', 'selection', 'mathematics', 'learning', 'approximation', 'mining', 'compression', 'arithmetic', 'algorithmic', 'computer', 'checksum', 'behavior']\n"
     ]
    }
   ],
   "source": [
    "print(\"Found {} words:\\n\\n\".format(len(wordRepresentation)), wordRepresentation)"
   ]
  },
  {
   "source": [
    "Now we can use our `doc2vec` model to encode our set of words as a numeric vector."
   ],
   "cell_type": "markdown",
   "metadata": {}
  },
  {
   "cell_type": "code",
   "execution_count": 10,
   "metadata": {},
   "outputs": [
    {
     "output_type": "stream",
     "name": "stdout",
     "text": [
      "Encoded numeric vector:\n [0.31989720463752747, 0.29779136180877686, -0.9996739625930786, 0.2990374267101288, 0.32499173283576965, 0.14868147671222687, 0.39899319410324097, -0.11946247518062592, 0.08580970764160156, 0.3709932863712311, -0.6376591324806213, -0.7991275191307068, -0.5793975591659546, 0.030618006363511086, -0.09017492830753326, -0.21176928281784058, -0.036709368228912354, 0.20612168312072754, -0.3078257441520691, 0.5615618228912354, -0.5726958513259888, -0.3254864811897278, 0.09675252437591553, -0.6349241137504578, 0.03299860283732414, 0.17679263651371002, 0.00012179146142443642, -0.19691196084022522, -0.38736140727996826, -0.6514764428138733, -0.5733559131622314, 0.36191919445991516, 0.1784226894378662, -0.23787179589271545, -0.5842075943946838, -0.03145549073815346, 0.46896013617515564, -0.11403825134038925, 0.1308974325656891, -0.3464210033416748, -0.025761792436242104, -0.05240115150809288, -0.7015578746795654, -0.3506559729576111, -0.23557838797569275, 0.3405131697654724, 0.12523415684700012, -0.21713438630104065, 0.3514308035373688, -0.04672686755657196, 0.09682731330394745, 0.5290960073471069, -0.4713093042373657, 0.04992317408323288, -0.3219721019268036, 0.46672558784484863, 0.19066502153873444, 0.401670902967453, -0.08587543666362762, 0.15886156260967255, -0.43579599261283875, -0.5203887224197388, 0.24426142871379852, 0.2868255376815796, -0.16361336410045624, 0.3816523253917694, -0.22594238817691803, -0.32370713353157043, 0.19516365230083466, -0.3063916862010956, 0.06778059899806976, -0.6471273899078369, 0.6321327090263367, 0.5536050200462341, -0.03577198460698128, -0.20263099670410156, -0.08343169093132019, 0.4185805022716522, -0.45881810784339905, -0.3741273283958435, 0.40162989497184753, -0.5377824902534485, 0.0687597468495369, 1.0035037994384766, -0.4335513412952423, 0.05535127967596054, 0.2865374684333801, -0.14745569229125977, 0.05292992293834686, 0.4565386474132538, -0.00939870998263359, -0.5635979771614075, 0.203909233212471, -0.05364636704325676, -0.5666142702102661, 0.5024961233139038, 0.8730223774909973, -0.04120832309126854, 0.3446879982948303, -0.4849602282047272, 0.4104969799518585, 0.10771074891090393, -0.36151599884033203, -0.29891565442085266, 0.702144980430603, -0.4540846347808838, 0.13791252672672272, 0.2775166928768158, 0.7061362266540527, -0.2901470959186554, -0.28959330916404724, 0.08500275760889053, 0.3533218204975128, -0.12076319754123688, -0.3110879957675934, -0.3716621696949005, -0.22579872608184814, -0.040226925164461136, 0.19878461956977844, -0.07253983616828918, -0.842153012752533, 0.04008861631155014, -0.07277726382017136, -0.29921048879623413, -0.14626853168010712, -0.17807818949222565, 0.24433492124080658, -0.677998423576355, -0.4661240875720978, 0.26377907395362854, -0.36953043937683105, 0.3842338025569916, 0.12644849717617035, -0.711916446685791, 0.1367892324924469, 0.4523538649082184, -0.2716139853000641, 0.055954255163669586, 0.07183875888586044, 0.34910306334495544, 0.24310876429080963, -0.4764072597026825, -0.07692030817270279, 0.6793729662895203, 0.38278552889823914, 0.2192574143409729, -0.051928117871284485, -0.332125186920166, 0.7518905401229858, -0.11083642393350601, -0.5450922250747681, -0.274020791053772, -0.4249773621559143, -0.7002388834953308, -0.38314172625541687, -0.17433612048625946, 0.3171885013580322, -0.4046929180622101, 0.15141576528549194, 0.2905106544494629, 0.42551612854003906, 0.7535123825073242, 0.044234443455934525, 0.5519381761550903, 0.0288679301738739, 0.0671025738120079, -0.37705594301223755, 0.27932804822921753, 0.3306654095649719, 0.004275121726095676, -0.1286744326353073, -0.009008743800222874, 0.2512224316596985, 0.33637934923171997, 0.7956486344337463, -0.49466997385025024, 0.1857820749282837, 0.34233784675598145, -0.384250670671463, -0.13408592343330383, 0.502659022808075, 0.4444640576839447, -0.6382448077201843, -0.37700748443603516, 0.7375970482826233, -0.24179385602474213, -0.03658203035593033, 0.5787476301193237, -0.15936969220638275, 0.1379643976688385, 0.4753558933734894, 0.0686776265501976, -0.08628390729427338, 0.3543284237384796, -0.007887464947998524, -0.5802879333496094, 1.1574398279190063, -1.2457150220870972, -0.541475772857666, -0.5892858505249023, 0.008177234791219234, -0.6857323050498962, 0.7991995215415955, -0.14641305804252625, -0.3015807867050171, -0.016017301008105278, -0.7241851091384888, -0.38931649923324585, 0.1513614058494568, -0.5635969638824463, 0.3865450918674469, 0.04942822456359863, 0.15140804648399353, 0.33040666580200195, 0.23206429183483124, -0.7762335538864136, 0.23496820032596588, -0.24862737953662872, -0.3596927225589752, -0.43202295899391174, 0.5413458943367004, 0.13814988732337952, -0.2176530808210373, 0.09275612980127335, -0.22605861723423004, -0.040865302085876465, -0.4969761371612549, 0.1125793531537056, 0.2903880476951599, 0.02917732670903206, -0.26491308212280273, 0.11778303980827332, 0.5595728158950806, 0.11536093801259995, 0.8252694010734558, 0.48757684230804443, 0.026563316583633423, -0.5115230083465576, 0.46485671401023865, -0.4557360112667084, -1.0645617246627808, 0.4835067093372345, -0.03162248060107231, 0.5747079253196716, 0.21515870094299316, -0.7723295092582703, -0.04744568094611168, 0.21580280363559723, -0.33282312750816345, 0.3898639380931854, 0.04789915308356285, 0.2805321216583252, 0.3949902355670929, 0.21377776563167572, -0.8896359205245972, 0.21846354007720947, 0.45795536041259766, -0.1510910540819168, 0.005819933023303747, -0.35996103286743164, 0.05377893149852753, -0.22580823302268982, -0.8101381063461304, -0.11132577806711197, -0.24017906188964844, -0.03957914561033249, -0.012175027281045914, 0.03614285960793495, -0.6364238858222961, 0.08967725187540054, 0.32021352648735046, 0.5110072493553162, 0.015740759670734406, 0.364444762468338, -0.4881724715232849, -0.3734351098537445, -0.2954249382019043, -0.525777280330658, 0.23440775275230408, -0.13855281472206116, 0.38109856843948364, 0.44082313776016235, -0.5402602553367615, 0.3717088997364044, 1.169287085533142, 0.09052414447069168, 0.09743190556764603, 0.27073028683662415, -0.4694312512874603, -0.3915737569332123, -0.21514509618282318, -0.0930253118276596, -0.33607181906700134, -0.2833957076072693, -0.5134041905403137, -0.2952312231063843, -0.42767661809921265, 0.11069274693727493, -0.2941432595252991, 0.0759507566690445]\n"
     ]
    }
   ],
   "source": [
    "from TTI.doc2vec import encode_article \n",
    "\n",
    "article = \" \".join(wordRepresentation)\n",
    "\n",
    "print(\"Encoded numeric vector:\\n\", encode_article(article))"
   ]
  },
  {
   "source": [
    "Now for every class in categories graph I need to calculate the words represntation set."
   ],
   "cell_type": "markdown",
   "metadata": {}
  },
  {
   "cell_type": "code",
   "execution_count": 6,
   "metadata": {},
   "outputs": [
    {
     "output_type": "stream",
     "name": "stderr",
     "text": [
      "100%|██████████| 225765/225765 [49:18<00:00, 76.31it/s]\n"
     ]
    }
   ],
   "source": [
    "import tqdm\n",
    "import pandas as pd\n",
    "import json\n",
    "\n",
    "data = []\n",
    "wordsCount = 50\n",
    "\n",
    "for category in tqdm.tqdm(categories):\n",
    "    nodeId = \"Category:{}\".format(category)\n",
    "    wordRepresentation = getNodeWordSet(nodeId, graph, numberOfWords=wordsCount)\n",
    "    numericVector = encode_article(\" \".join(wordRepresentation))\n",
    "\n",
    "    data.append([str(nodeId), json.dumps(wordRepresentation), json.dumps(numericVector)])\n",
    "\n",
    "dataFrame = pd.DataFrame(data, columns=['Category', 'Words', 'Representation'])\n"
   ]
  },
  {
   "cell_type": "code",
   "execution_count": 7,
   "metadata": {},
   "outputs": [
    {
     "output_type": "execute_result",
     "data": {
      "text/plain": [
       "                                    Category  \\\n",
       "0        Category:Main_topic_classifications   \n",
       "1               Category:Main topic articles   \n",
       "2              Category:Academic disciplines   \n",
       "3  Category:Subfields by academic discipline   \n",
       "4              Category:Scholars by subfield   \n",
       "\n",
       "                                               Words  \\\n",
       "0  [\"world\", \"articles\", \"music\", \"technology\", \"...   \n",
       "1  [\"world\", \"articles\", \"music\", \"technology\", \"...   \n",
       "2  [\"communication\", \"articles\", \"subject\", \"scie...   \n",
       "3  [\"areas\", \"fields\", \"information\", \"subject\", ...   \n",
       "4  [\"gun\", \"anthropologists\", \"cartographers\", \"s...   \n",
       "\n",
       "                                      Representation  \n",
       "0  [9.195921302307397e-05, -0.0007309274515137076...  \n",
       "1  [9.195921302307397e-05, -0.0007309274515137076...  \n",
       "2  [-0.0007150950841605663, 0.0004406595544423908...  \n",
       "3  [0.001037890324369073, 0.00026856939075514674,...  \n",
       "4  [0.0008707719971425831, 0.0003855710383504629,...  "
      ],
      "text/html": "<div>\n<style scoped>\n    .dataframe tbody tr th:only-of-type {\n        vertical-align: middle;\n    }\n\n    .dataframe tbody tr th {\n        vertical-align: top;\n    }\n\n    .dataframe thead th {\n        text-align: right;\n    }\n</style>\n<table border=\"1\" class=\"dataframe\">\n  <thead>\n    <tr style=\"text-align: right;\">\n      <th></th>\n      <th>Category</th>\n      <th>Words</th>\n      <th>Representation</th>\n    </tr>\n  </thead>\n  <tbody>\n    <tr>\n      <th>0</th>\n      <td>Category:Main_topic_classifications</td>\n      <td>[\"world\", \"articles\", \"music\", \"technology\", \"...</td>\n      <td>[9.195921302307397e-05, -0.0007309274515137076...</td>\n    </tr>\n    <tr>\n      <th>1</th>\n      <td>Category:Main topic articles</td>\n      <td>[\"world\", \"articles\", \"music\", \"technology\", \"...</td>\n      <td>[9.195921302307397e-05, -0.0007309274515137076...</td>\n    </tr>\n    <tr>\n      <th>2</th>\n      <td>Category:Academic disciplines</td>\n      <td>[\"communication\", \"articles\", \"subject\", \"scie...</td>\n      <td>[-0.0007150950841605663, 0.0004406595544423908...</td>\n    </tr>\n    <tr>\n      <th>3</th>\n      <td>Category:Subfields by academic discipline</td>\n      <td>[\"areas\", \"fields\", \"information\", \"subject\", ...</td>\n      <td>[0.001037890324369073, 0.00026856939075514674,...</td>\n    </tr>\n    <tr>\n      <th>4</th>\n      <td>Category:Scholars by subfield</td>\n      <td>[\"gun\", \"anthropologists\", \"cartographers\", \"s...</td>\n      <td>[0.0008707719971425831, 0.0003855710383504629,...</td>\n    </tr>\n  </tbody>\n</table>\n</div>"
     },
     "metadata": {},
     "execution_count": 7
    }
   ],
   "source": [
    "dataFrame.head()"
   ]
  },
  {
   "source": [
    "We won't use csv for it cause it would be to big and slow."
   ],
   "cell_type": "markdown",
   "metadata": {}
  },
  {
   "cell_type": "code",
   "execution_count": 8,
   "metadata": {},
   "outputs": [],
   "source": [
    "# from TTI.config import DATA_DIR\n",
    "# import os\n",
    "\n",
    "# fileName= \"training_set_{}.csv\".format(wordsCount)\n",
    "# filePath = os.path.join(DATA_DIR, fileName)\n",
    "\n",
    "# dataFrame.to_csv(filePath,index_label=\"id\")"
   ]
  },
  {
   "source": [
    "## Saving dataset in the database\n",
    "\n",
    "Because caluclated dataset is huge (1.3GB) the `csv` file won't be convenient. I will use SQL database insetead."
   ],
   "cell_type": "markdown",
   "metadata": {}
  },
  {
   "cell_type": "code",
   "execution_count": 8,
   "metadata": {},
   "outputs": [],
   "source": [
    "from TTI.config import DATABASE_PATH\n",
    "import sqlite3\n",
    "import os\n",
    "\n",
    "connection = sqlite3.connect(DATABASE_PATH)"
   ]
  },
  {
   "cell_type": "code",
   "execution_count": 9,
   "metadata": {},
   "outputs": [],
   "source": [
    "table_name = \"training_set_{}\".format(wordsCount)\n",
    "\n",
    "dataFrame.to_sql(table_name, connection, if_exists='replace', index=False)"
   ]
  },
  {
   "source": [
    "## Testing import data from database"
   ],
   "cell_type": "markdown",
   "metadata": {}
  },
  {
   "cell_type": "code",
   "execution_count": 11,
   "metadata": {},
   "outputs": [],
   "source": [
    " importedDataFrame = pd.read_sql('select * from {}'.format(table_name), connection)"
   ]
  },
  {
   "cell_type": "code",
   "execution_count": 15,
   "metadata": {},
   "outputs": [
    {
     "output_type": "execute_result",
     "data": {
      "text/plain": [
       "                                    Category  \\\n",
       "0        Category:Main_topic_classifications   \n",
       "1               Category:Main topic articles   \n",
       "2              Category:Academic disciplines   \n",
       "3  Category:Subfields by academic discipline   \n",
       "4              Category:Scholars by subfield   \n",
       "\n",
       "                                               Words  \\\n",
       "0  [\"knowledge\", \"history\", \"education\", \"article...   \n",
       "1  [\"knowledge\", \"history\", \"education\", \"article...   \n",
       "2  [\"history\", \"communication\", \"professional\", \"...   \n",
       "3  [\"of\", \"engineering\", \"psychiatric\", \"history\"...   \n",
       "4  [\"of\", \"engineers\", \"geographers\", \"gun\", \"eur...   \n",
       "\n",
       "                                      Representation  \n",
       "0  [0.0015570593532174826, 0.00048521943972446024...  \n",
       "1  [0.0015570593532174826, 0.00048521943972446024...  \n",
       "2  [0.0013619071105495095, 0.0009967258665710688,...  \n",
       "3  [-0.000537737796548754, 0.0015615752199664712,...  \n",
       "4  [-0.00039383742841891944, -0.00025646726135164...  "
      ],
      "text/html": "<div>\n<style scoped>\n    .dataframe tbody tr th:only-of-type {\n        vertical-align: middle;\n    }\n\n    .dataframe tbody tr th {\n        vertical-align: top;\n    }\n\n    .dataframe thead th {\n        text-align: right;\n    }\n</style>\n<table border=\"1\" class=\"dataframe\">\n  <thead>\n    <tr style=\"text-align: right;\">\n      <th></th>\n      <th>Category</th>\n      <th>Words</th>\n      <th>Representation</th>\n    </tr>\n  </thead>\n  <tbody>\n    <tr>\n      <th>0</th>\n      <td>Category:Main_topic_classifications</td>\n      <td>[\"knowledge\", \"history\", \"education\", \"article...</td>\n      <td>[0.0015570593532174826, 0.00048521943972446024...</td>\n    </tr>\n    <tr>\n      <th>1</th>\n      <td>Category:Main topic articles</td>\n      <td>[\"knowledge\", \"history\", \"education\", \"article...</td>\n      <td>[0.0015570593532174826, 0.00048521943972446024...</td>\n    </tr>\n    <tr>\n      <th>2</th>\n      <td>Category:Academic disciplines</td>\n      <td>[\"history\", \"communication\", \"professional\", \"...</td>\n      <td>[0.0013619071105495095, 0.0009967258665710688,...</td>\n    </tr>\n    <tr>\n      <th>3</th>\n      <td>Category:Subfields by academic discipline</td>\n      <td>[\"of\", \"engineering\", \"psychiatric\", \"history\"...</td>\n      <td>[-0.000537737796548754, 0.0015615752199664712,...</td>\n    </tr>\n    <tr>\n      <th>4</th>\n      <td>Category:Scholars by subfield</td>\n      <td>[\"of\", \"engineers\", \"geographers\", \"gun\", \"eur...</td>\n      <td>[-0.00039383742841891944, -0.00025646726135164...</td>\n    </tr>\n  </tbody>\n</table>\n</div>"
     },
     "metadata": {},
     "execution_count": 15
    }
   ],
   "source": [
    "importedDataFrame.head()"
   ]
  },
  {
   "cell_type": "code",
   "execution_count": null,
   "metadata": {},
   "outputs": [],
   "source": []
  }
 ]
}